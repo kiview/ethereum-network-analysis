{
 "metadata": {
  "language_info": {
   "codemirror_mode": {
    "name": "ipython",
    "version": 3
   },
   "file_extension": ".py",
   "mimetype": "text/x-python",
   "name": "python",
   "nbconvert_exporter": "python",
   "pygments_lexer": "ipython3",
   "version": "3.8.2-final"
  },
  "orig_nbformat": 2,
  "kernelspec": {
   "name": "python_defaultSpec_1597488851566",
   "display_name": "Python 3.8.2 64-bit ('ethereum-network-iTOQKzl-': venv)"
  }
 },
 "nbformat": 4,
 "nbformat_minor": 2,
 "cells": [
  {
   "cell_type": "code",
   "execution_count": 16,
   "metadata": {},
   "outputs": [],
   "source": [
    "from web3 import Web3\n",
    "import pandas as pd\n",
    "\n",
    "from tqdm.notebook import trange"
   ]
  },
  {
   "cell_type": "code",
   "execution_count": 37,
   "metadata": {},
   "outputs": [
    {
     "output_type": "execute_result",
     "data": {
      "text/plain": "7535769"
     },
     "metadata": {},
     "execution_count": 37
    }
   ],
   "source": [
    "# Make sure the IPC socket is readable for the user executing the notebook\n",
    "\n",
    "w3 = Web3(Web3.IPCProvider('./ipc/jsonrpc.ipc'))\n",
    "w3.isConnected()\n",
    "\n",
    "latest_block_number = w3.eth.blockNumber\n",
    "latest_block_number"
   ]
  },
  {
   "cell_type": "code",
   "execution_count": null,
   "metadata": {},
   "outputs": [],
   "source": [
    "w3.eth.getBlock(7535568, full_transactions=True).transactions[0]"
   ]
  },
  {
   "cell_type": "code",
   "execution_count": 38,
   "metadata": {
    "tags": []
   },
   "outputs": [
    {
     "output_type": "display_data",
     "data": {
      "text/plain": "HBox(children=(FloatProgress(value=0.0, max=7535769.0), HTML(value='')))",
      "application/vnd.jupyter.widget-view+json": {
       "version_major": 2,
       "version_minor": 0,
       "model_id": "9cf9a5feb83041feaa772c0fe895b9ed"
      }
     },
     "metadata": {}
    },
    {
     "output_type": "stream",
     "name": "stdout",
     "text": "\n"
    }
   ],
   "source": [
    "start_block = 0\n",
    "#end_block = 500\n",
    "end_block = 7535769\n",
    "\n",
    "transactions = []\n",
    "\n",
    "for idx in trange(start_block, end_block):\n",
    "    b = w3.eth.getBlock(idx, full_transactions=True)\n",
    "    for tx in b.transactions:\n",
    "\n",
    "        transactions.append([b.timestamp, tx.blockNumber, tx.to, tx['from'], tx.gas, tx.gasPrice, tx.nonce])"
   ]
  },
  {
   "cell_type": "code",
   "execution_count": 40,
   "metadata": {},
   "outputs": [
    {
     "output_type": "execute_result",
     "data": {
      "text/plain": "          timestamp  blocknumber                                          to  \\\n0        1547107485           33                                        None   \n1        1547107625           61                                        None   \n2        1547107680           72  0x9850711951A84Ef8a2A31a7868d0dCa34B0661cA   \n3        1547111675          845  0x9849379b89aB24c18C8871d56d1Ad41E00d9eAae   \n4        1547111745          859  0x9849379b89aB24c18C8871d56d1Ad41E00d9eAae   \n...             ...          ...                                         ...   \n9527281  1597489805      7535649  0xD216153c06E857cD7f72665E0aF1d7D82172F494   \n9527282  1597490350      7535715  0xFe19CA9dCaba073cECeE7dC2b36b7d45dbeEdFf0   \n9527283  1597490365      7535717  0xD216153c06E857cD7f72665E0aF1d7D82172F494   \n9527284  1597490410      7535721  0xD216153c06E857cD7f72665E0aF1d7D82172F494   \n9527285  1597490535      7535736  0xE5a9654C7e190701016EBf18206020bf16D8Beab   \n\n                                               from      gas     gasPrice  \\\n0        0xaB59A1ea1aC9af9F77518b9B4AD80942adE35088   889637            0   \n1        0xaB59A1ea1aC9af9F77518b9B4AD80942adE35088  1952182            0   \n2        0xaB59A1ea1aC9af9F77518b9B4AD80942adE35088    45333            0   \n3        0xaB59A1ea1aC9af9F77518b9B4AD80942adE35088  1000000  50000000000   \n4        0xaB59A1ea1aC9af9F77518b9B4AD80942adE35088  1000000  50000000000   \n...                                             ...      ...          ...   \n9527281  0x4eD1cA7563Ae29FE02d278a3fEE4876C9BA317d3    52216      1000000   \n9527282  0xaB59A1ea1aC9af9F77518b9B4AD80942adE35088    30000   1000000000   \n9527283  0x4eD1cA7563Ae29FE02d278a3fEE4876C9BA317d3    52276      1000000   \n9527284  0x4eD1cA7563Ae29FE02d278a3fEE4876C9BA317d3    52216      1000000   \n9527285  0xaB59A1ea1aC9af9F77518b9B4AD80942adE35088  1000000  50000000000   \n\n         nonce  \n0            0  \n1            1  \n2            2  \n3            3  \n4            4  \n...        ...  \n9527281  13721  \n9527282  53651  \n9527283  13722  \n9527284  13723  \n9527285  53652  \n\n[9527286 rows x 7 columns]",
      "text/html": "<div>\n<style scoped>\n    .dataframe tbody tr th:only-of-type {\n        vertical-align: middle;\n    }\n\n    .dataframe tbody tr th {\n        vertical-align: top;\n    }\n\n    .dataframe thead th {\n        text-align: right;\n    }\n</style>\n<table border=\"1\" class=\"dataframe\">\n  <thead>\n    <tr style=\"text-align: right;\">\n      <th></th>\n      <th>timestamp</th>\n      <th>blocknumber</th>\n      <th>to</th>\n      <th>from</th>\n      <th>gas</th>\n      <th>gasPrice</th>\n      <th>nonce</th>\n    </tr>\n  </thead>\n  <tbody>\n    <tr>\n      <th>0</th>\n      <td>1547107485</td>\n      <td>33</td>\n      <td>None</td>\n      <td>0xaB59A1ea1aC9af9F77518b9B4AD80942adE35088</td>\n      <td>889637</td>\n      <td>0</td>\n      <td>0</td>\n    </tr>\n    <tr>\n      <th>1</th>\n      <td>1547107625</td>\n      <td>61</td>\n      <td>None</td>\n      <td>0xaB59A1ea1aC9af9F77518b9B4AD80942adE35088</td>\n      <td>1952182</td>\n      <td>0</td>\n      <td>1</td>\n    </tr>\n    <tr>\n      <th>2</th>\n      <td>1547107680</td>\n      <td>72</td>\n      <td>0x9850711951A84Ef8a2A31a7868d0dCa34B0661cA</td>\n      <td>0xaB59A1ea1aC9af9F77518b9B4AD80942adE35088</td>\n      <td>45333</td>\n      <td>0</td>\n      <td>2</td>\n    </tr>\n    <tr>\n      <th>3</th>\n      <td>1547111675</td>\n      <td>845</td>\n      <td>0x9849379b89aB24c18C8871d56d1Ad41E00d9eAae</td>\n      <td>0xaB59A1ea1aC9af9F77518b9B4AD80942adE35088</td>\n      <td>1000000</td>\n      <td>50000000000</td>\n      <td>3</td>\n    </tr>\n    <tr>\n      <th>4</th>\n      <td>1547111745</td>\n      <td>859</td>\n      <td>0x9849379b89aB24c18C8871d56d1Ad41E00d9eAae</td>\n      <td>0xaB59A1ea1aC9af9F77518b9B4AD80942adE35088</td>\n      <td>1000000</td>\n      <td>50000000000</td>\n      <td>4</td>\n    </tr>\n    <tr>\n      <th>...</th>\n      <td>...</td>\n      <td>...</td>\n      <td>...</td>\n      <td>...</td>\n      <td>...</td>\n      <td>...</td>\n      <td>...</td>\n    </tr>\n    <tr>\n      <th>9527281</th>\n      <td>1597489805</td>\n      <td>7535649</td>\n      <td>0xD216153c06E857cD7f72665E0aF1d7D82172F494</td>\n      <td>0x4eD1cA7563Ae29FE02d278a3fEE4876C9BA317d3</td>\n      <td>52216</td>\n      <td>1000000</td>\n      <td>13721</td>\n    </tr>\n    <tr>\n      <th>9527282</th>\n      <td>1597490350</td>\n      <td>7535715</td>\n      <td>0xFe19CA9dCaba073cECeE7dC2b36b7d45dbeEdFf0</td>\n      <td>0xaB59A1ea1aC9af9F77518b9B4AD80942adE35088</td>\n      <td>30000</td>\n      <td>1000000000</td>\n      <td>53651</td>\n    </tr>\n    <tr>\n      <th>9527283</th>\n      <td>1597490365</td>\n      <td>7535717</td>\n      <td>0xD216153c06E857cD7f72665E0aF1d7D82172F494</td>\n      <td>0x4eD1cA7563Ae29FE02d278a3fEE4876C9BA317d3</td>\n      <td>52276</td>\n      <td>1000000</td>\n      <td>13722</td>\n    </tr>\n    <tr>\n      <th>9527284</th>\n      <td>1597490410</td>\n      <td>7535721</td>\n      <td>0xD216153c06E857cD7f72665E0aF1d7D82172F494</td>\n      <td>0x4eD1cA7563Ae29FE02d278a3fEE4876C9BA317d3</td>\n      <td>52216</td>\n      <td>1000000</td>\n      <td>13723</td>\n    </tr>\n    <tr>\n      <th>9527285</th>\n      <td>1597490535</td>\n      <td>7535736</td>\n      <td>0xE5a9654C7e190701016EBf18206020bf16D8Beab</td>\n      <td>0xaB59A1ea1aC9af9F77518b9B4AD80942adE35088</td>\n      <td>1000000</td>\n      <td>50000000000</td>\n      <td>53652</td>\n    </tr>\n  </tbody>\n</table>\n<p>9527286 rows × 7 columns</p>\n</div>"
     },
     "metadata": {},
     "execution_count": 40
    }
   ],
   "source": [
    "df = pd.DataFrame(transactions, columns =['timestamp', 'blocknumber', 'to', 'from', 'gas', 'gasPrice', 'nonce']) \n",
    "df "
   ]
  },
  {
   "cell_type": "code",
   "execution_count": 44,
   "metadata": {},
   "outputs": [],
   "source": [
    "compression_opts = dict(method='zip',\n",
    "                        archive_name='bloxberg.csv')  \n",
    "df.to_csv('bloxberg.zip', compression=compression_opts)"
   ]
  },
  {
   "cell_type": "code",
   "execution_count": 43,
   "metadata": {},
   "outputs": [],
   "source": [
    "df.to_hdf('bloxberg.h5', key='df')"
   ]
  },
  {
   "cell_type": "code",
   "execution_count": null,
   "metadata": {},
   "outputs": [],
   "source": []
  }
 ]
}