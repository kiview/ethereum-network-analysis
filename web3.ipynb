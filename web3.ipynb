{
 "cells": [
  {
   "cell_type": "code",
   "execution_count": 1,
   "metadata": {},
   "outputs": [],
   "source": [
    "from web3 import Web3\n",
    "from ipywidgets import IntProgress\n",
    "from IPython.display import display\n",
    "import pandas as pd\n",
    "from teneto import TemporalNetwork"
   ]
  },
  {
   "cell_type": "code",
   "execution_count": 2,
   "metadata": {},
   "outputs": [
    {
     "output_type": "execute_result",
     "data": {
      "text/plain": "True"
     },
     "metadata": {},
     "execution_count": 2
    }
   ],
   "source": [
    "#w3 = Web3(Web3.IPCProvider('./ipc/jsonrpc.ipc'))\n",
    "w3 = Web3(Web3.WebsocketProvider('ws://localhost:8546'))\n",
    "w3.isConnected()\n",
    "\n",
    "start_block = 5000\n",
    "end_block = 6000\n",
    "progress = IntProgress(min=0, max=(end_block - start_block))\n",
    "w3.isConnected()\n"
   ]
  },
  {
   "cell_type": "code",
   "execution_count": 3,
   "metadata": {
    "tags": []
   },
   "outputs": [
    {
     "output_type": "display_data",
     "data": {
      "text/plain": "IntProgress(value=0, max=1000)",
      "application/vnd.jupyter.widget-view+json": {
       "version_major": 2,
       "version_minor": 0,
       "model_id": "c6b311b802de4e4f8c69cdd95afff43b"
      }
     },
     "metadata": {}
    },
    {
     "output_type": "stream",
     "name": "stdout",
     "text": "5000\n"
    },
    {
     "output_type": "display_data",
     "data": {
      "text/plain": "IntProgress(value=1, max=1000)",
      "application/vnd.jupyter.widget-view+json": {
       "version_major": 2,
       "version_minor": 0,
       "model_id": "c6b311b802de4e4f8c69cdd95afff43b"
      }
     },
     "metadata": {}
    },
    {
     "output_type": "stream",
     "name": "stdout",
     "text": "5001\n"
    },
    {
     "output_type": "display_data",
     "data": {
      "text/plain": "IntProgress(value=2, max=1000)",
      "application/vnd.jupyter.widget-view+json": {
       "version_major": 2,
       "version_minor": 0,
       "model_id": "c6b311b802de4e4f8c69cdd95afff43b"
      }
     },
     "metadata": {}
    },
    {
     "output_type": "stream",
     "name": "stdout",
     "text": "5002\n"
    },
    {
     "output_type": "display_data",
     "data": {
      "text/plain": "IntProgress(value=3, max=1000)",
      "application/vnd.jupyter.widget-view+json": {
       "version_major": 2,
       "version_minor": 0,
       "model_id": "c6b311b802de4e4f8c69cdd95afff43b"
      }
     },
     "metadata": {}
    },
    {
     "output_type": "stream",
     "name": "stdout",
     "text": "5003\n"
    },
    {
     "output_type": "display_data",
     "data": {
      "text/plain": "IntProgress(value=4, max=1000)",
      "application/vnd.jupyter.widget-view+json": {
       "version_major": 2,
       "version_minor": 0,
       "model_id": "c6b311b802de4e4f8c69cdd95afff43b"
      }
     },
     "metadata": {}
    },
    {
     "output_type": "stream",
     "name": "stdout",
     "text": "5004\n"
    },
    {
     "output_type": "display_data",
     "data": {
      "text/plain": "IntProgress(value=5, max=1000)",
      "application/vnd.jupyter.widget-view+json": {
       "version_major": 2,
       "version_minor": 0,
       "model_id": "c6b311b802de4e4f8c69cdd95afff43b"
      }
     },
     "metadata": {}
    },
    {
     "output_type": "stream",
     "name": "stdout",
     "text": "5005\n"
    },
    {
     "output_type": "display_data",
     "data": {
      "text/plain": "IntProgress(value=6, max=1000)",
      "application/vnd.jupyter.widget-view+json": {
       "version_major": 2,
       "version_minor": 0,
       "model_id": "c6b311b802de4e4f8c69cdd95afff43b"
      }
     },
     "metadata": {}
    },
    {
     "output_type": "stream",
     "name": "stdout",
     "text": "5006\n"
    },
    {
     "output_type": "display_data",
     "data": {
      "text/plain": "IntProgress(value=7, max=1000)",
      "application/vnd.jupyter.widget-view+json": {
       "version_major": 2,
       "version_minor": 0,
       "model_id": "c6b311b802de4e4f8c69cdd95afff43b"
      }
     },
     "metadata": {}
    },
    {
     "output_type": "stream",
     "name": "stdout",
     "text": "5007\n"
    },
    {
     "output_type": "display_data",
     "data": {
      "text/plain": "IntProgress(value=8, max=1000)",
      "application/vnd.jupyter.widget-view+json": {
       "version_major": 2,
       "version_minor": 0,
       "model_id": "c6b311b802de4e4f8c69cdd95afff43b"
      }
     },
     "metadata": {}
    },
    {
     "output_type": "stream",
     "name": "stdout",
     "text": "5008\n"
    },
    {
     "output_type": "display_data",
     "data": {
      "text/plain": "IntProgress(value=9, max=1000)",
      "application/vnd.jupyter.widget-view+json": {
       "version_major": 2,
       "version_minor": 0,
       "model_id": "c6b311b802de4e4f8c69cdd95afff43b"
      }
     },
     "metadata": {}
    },
    {
     "output_type": "stream",
     "name": "stdout",
     "text": "5009\n"
    },
    {
     "output_type": "display_data",
     "data": {
      "text/plain": "IntProgress(value=10, max=1000)",
      "application/vnd.jupyter.widget-view+json": {
       "version_major": 2,
       "version_minor": 0,
       "model_id": "c6b311b802de4e4f8c69cdd95afff43b"
      }
     },
     "metadata": {}
    },
    {
     "output_type": "stream",
     "name": "stdout",
     "text": "5010\n"
    },
    {
     "output_type": "display_data",
     "data": {
      "text/plain": "IntProgress(value=11, max=1000)",
      "application/vnd.jupyter.widget-view+json": {
       "version_major": 2,
       "version_minor": 0,
       "model_id": "c6b311b802de4e4f8c69cdd95afff43b"
      }
     },
     "metadata": {}
    },
    {
     "output_type": "stream",
     "name": "stdout",
     "text": "5011\n"
    },
    {
     "output_type": "display_data",
     "data": {
      "text/plain": "IntProgress(value=12, max=1000)",
      "application/vnd.jupyter.widget-view+json": {
       "version_major": 2,
       "version_minor": 0,
       "model_id": "c6b311b802de4e4f8c69cdd95afff43b"
      }
     },
     "metadata": {}
    },
    {
     "output_type": "stream",
     "name": "stdout",
     "text": "5012\n"
    },
    {
     "output_type": "display_data",
     "data": {
      "text/plain": "IntProgress(value=13, max=1000)",
      "application/vnd.jupyter.widget-view+json": {
       "version_major": 2,
       "version_minor": 0,
       "model_id": "c6b311b802de4e4f8c69cdd95afff43b"
      }
     },
     "metadata": {}
    },
    {
     "output_type": "stream",
     "name": "stdout",
     "text": "5013\n"
    },
    {
     "output_type": "display_data",
     "data": {
      "text/plain": "IntProgress(value=14, max=1000)",
      "application/vnd.jupyter.widget-view+json": {
       "version_major": 2,
       "version_minor": 0,
       "model_id": "c6b311b802de4e4f8c69cdd95afff43b"
      }
     },
     "metadata": {}
    },
    {
     "output_type": "stream",
     "name": "stdout",
     "text": "5014\n"
    },
    {
     "output_type": "display_data",
     "data": {
      "text/plain": "IntProgress(value=15, max=1000)",
      "application/vnd.jupyter.widget-view+json": {
       "version_major": 2,
       "version_minor": 0,
       "model_id": "c6b311b802de4e4f8c69cdd95afff43b"
      }
     },
     "metadata": {}
    },
    {
     "output_type": "stream",
     "name": "stdout",
     "text": "5015\n"
    },
    {
     "output_type": "display_data",
     "data": {
      "text/plain": "IntProgress(value=16, max=1000)",
      "application/vnd.jupyter.widget-view+json": {
       "version_major": 2,
       "version_minor": 0,
       "model_id": "c6b311b802de4e4f8c69cdd95afff43b"
      }
     },
     "metadata": {}
    },
    {
     "output_type": "stream",
     "name": "stdout",
     "text": "5016\n"
    },
    {
     "output_type": "display_data",
     "data": {
      "text/plain": "IntProgress(value=17, max=1000)",
      "application/vnd.jupyter.widget-view+json": {
       "version_major": 2,
       "version_minor": 0,
       "model_id": "c6b311b802de4e4f8c69cdd95afff43b"
      }
     },
     "metadata": {}
    },
    {
     "output_type": "stream",
     "name": "stdout",
     "text": "5017\n"
    },
    {
     "output_type": "display_data",
     "data": {
      "text/plain": "IntProgress(value=18, max=1000)",
      "application/vnd.jupyter.widget-view+json": {
       "version_major": 2,
       "version_minor": 0,
       "model_id": "c6b311b802de4e4f8c69cdd95afff43b"
      }
     },
     "metadata": {}
    },
    {
     "output_type": "stream",
     "name": "stdout",
     "text": "5018\n"
    },
    {
     "output_type": "display_data",
     "data": {
      "text/plain": "IntProgress(value=19, max=1000)",
      "application/vnd.jupyter.widget-view+json": {
       "version_major": 2,
       "version_minor": 0,
       "model_id": "c6b311b802de4e4f8c69cdd95afff43b"
      }
     },
     "metadata": {}
    },
    {
     "output_type": "stream",
     "name": "stdout",
     "text": "5019\n"
    },
    {
     "output_type": "display_data",
     "data": {
      "text/plain": "IntProgress(value=20, max=1000)",
      "application/vnd.jupyter.widget-view+json": {
       "version_major": 2,
       "version_minor": 0,
       "model_id": "c6b311b802de4e4f8c69cdd95afff43b"
      }
     },
     "metadata": {}
    },
    {
     "output_type": "stream",
     "name": "stdout",
     "text": "5020\n"
    },
    {
     "output_type": "display_data",
     "data": {
      "text/plain": "IntProgress(value=21, max=1000)",
      "application/vnd.jupyter.widget-view+json": {
       "version_major": 2,
       "version_minor": 0,
       "model_id": "c6b311b802de4e4f8c69cdd95afff43b"
      }
     },
     "metadata": {}
    },
    {
     "output_type": "stream",
     "name": "stdout",
     "text": "5021\n"
    },
    {
     "output_type": "display_data",
     "data": {
      "text/plain": "IntProgress(value=22, max=1000)",
      "application/vnd.jupyter.widget-view+json": {
       "version_major": 2,
       "version_minor": 0,
       "model_id": "c6b311b802de4e4f8c69cdd95afff43b"
      }
     },
     "metadata": {}
    },
    {
     "output_type": "stream",
     "name": "stdout",
     "text": "5022\n"
    },
    {
     "output_type": "display_data",
     "data": {
      "text/plain": "IntProgress(value=23, max=1000)",
      "application/vnd.jupyter.widget-view+json": {
       "version_major": 2,
       "version_minor": 0,
       "model_id": "c6b311b802de4e4f8c69cdd95afff43b"
      }
     },
     "metadata": {}
    },
    {
     "output_type": "stream",
     "name": "stdout",
     "text": "5023\n"
    },
    {
     "output_type": "display_data",
     "data": {
      "text/plain": "IntProgress(value=24, max=1000)",
      "application/vnd.jupyter.widget-view+json": {
       "version_major": 2,
       "version_minor": 0,
       "model_id": "c6b311b802de4e4f8c69cdd95afff43b"
      }
     },
     "metadata": {}
    },
    {
     "output_type": "stream",
     "name": "stdout",
     "text": "5024\n"
    },
    {
     "output_type": "display_data",
     "data": {
      "text/plain": "IntProgress(value=25, max=1000)",
      "application/vnd.jupyter.widget-view+json": {
       "version_major": 2,
       "version_minor": 0,
       "model_id": "c6b311b802de4e4f8c69cdd95afff43b"
      }
     },
     "metadata": {}
    },
    {
     "output_type": "stream",
     "name": "stdout",
     "text": "5025\n"
    },
    {
     "output_type": "display_data",
     "data": {
      "text/plain": "IntProgress(value=26, max=1000)",
      "application/vnd.jupyter.widget-view+json": {
       "version_major": 2,
       "version_minor": 0,
       "model_id": "c6b311b802de4e4f8c69cdd95afff43b"
      }
     },
     "metadata": {}
    },
    {
     "output_type": "stream",
     "name": "stdout",
     "text": "5026\n"
    },
    {
     "output_type": "display_data",
     "data": {
      "text/plain": "IntProgress(value=27, max=1000)",
      "application/vnd.jupyter.widget-view+json": {
       "version_major": 2,
       "version_minor": 0,
       "model_id": "c6b311b802de4e4f8c69cdd95afff43b"
      }
     },
     "metadata": {}
    },
    {
     "output_type": "stream",
     "name": "stdout",
     "text": "5027\n"
    },
    {
     "output_type": "display_data",
     "data": {
      "text/plain": "IntProgress(value=28, max=1000)",
      "application/vnd.jupyter.widget-view+json": {
       "version_major": 2,
       "version_minor": 0,
       "model_id": "c6b311b802de4e4f8c69cdd95afff43b"
      }
     },
     "metadata": {}
    },
    {
     "output_type": "stream",
     "name": "stdout",
     "text": "5028\n"
    },
    {
     "output_type": "display_data",
     "data": {
      "text/plain": "IntProgress(value=29, max=1000)",
      "application/vnd.jupyter.widget-view+json": {
       "version_major": 2,
       "version_minor": 0,
       "model_id": "c6b311b802de4e4f8c69cdd95afff43b"
      }
     },
     "metadata": {}
    },
    {
     "output_type": "stream",
     "name": "stdout",
     "text": "5029\n"
    },
    {
     "output_type": "display_data",
     "data": {
      "text/plain": "IntProgress(value=30, max=1000)",
      "application/vnd.jupyter.widget-view+json": {
       "version_major": 2,
       "version_minor": 0,
       "model_id": "c6b311b802de4e4f8c69cdd95afff43b"
      }
     },
     "metadata": {}
    },
    {
     "output_type": "stream",
     "name": "stdout",
     "text": "5030\n"
    },
    {
     "output_type": "display_data",
     "data": {
      "text/plain": "IntProgress(value=31, max=1000)",
      "application/vnd.jupyter.widget-view+json": {
       "version_major": 2,
       "version_minor": 0,
       "model_id": "c6b311b802de4e4f8c69cdd95afff43b"
      }
     },
     "metadata": {}
    },
    {
     "output_type": "stream",
     "name": "stdout",
     "text": "5031\n"
    },
    {
     "output_type": "display_data",
     "data": {
      "text/plain": "IntProgress(value=32, max=1000)",
      "application/vnd.jupyter.widget-view+json": {
       "version_major": 2,
       "version_minor": 0,
       "model_id": "c6b311b802de4e4f8c69cdd95afff43b"
      }
     },
     "metadata": {}
    },
    {
     "output_type": "stream",
     "name": "stdout",
     "text": "5032\n"
    },
    {
     "output_type": "display_data",
     "data": {
      "text/plain": "IntProgress(value=33, max=1000)",
      "application/vnd.jupyter.widget-view+json": {
       "version_major": 2,
       "version_minor": 0,
       "model_id": "c6b311b802de4e4f8c69cdd95afff43b"
      }
     },
     "metadata": {}
    },
    {
     "output_type": "stream",
     "name": "stdout",
     "text": "5033\n"
    },
    {
     "output_type": "display_data",
     "data": {
      "text/plain": "IntProgress(value=34, max=1000)",
      "application/vnd.jupyter.widget-view+json": {
       "version_major": 2,
       "version_minor": 0,
       "model_id": "c6b311b802de4e4f8c69cdd95afff43b"
      }
     },
     "metadata": {}
    },
    {
     "output_type": "stream",
     "name": "stdout",
     "text": "5034\n"
    },
    {
     "output_type": "display_data",
     "data": {
      "text/plain": "IntProgress(value=35, max=1000)",
      "application/vnd.jupyter.widget-view+json": {
       "version_major": 2,
       "version_minor": 0,
       "model_id": "c6b311b802de4e4f8c69cdd95afff43b"
      }
     },
     "metadata": {}
    },
    {
     "output_type": "stream",
     "name": "stdout",
     "text": "5035\n"
    },
    {
     "output_type": "display_data",
     "data": {
      "text/plain": "IntProgress(value=36, max=1000)",
      "application/vnd.jupyter.widget-view+json": {
       "version_major": 2,
       "version_minor": 0,
       "model_id": "c6b311b802de4e4f8c69cdd95afff43b"
      }
     },
     "metadata": {}
    },
    {
     "output_type": "stream",
     "name": "stdout",
     "text": "5036\n"
    },
    {
     "output_type": "display_data",
     "data": {
      "text/plain": "IntProgress(value=37, max=1000)",
      "application/vnd.jupyter.widget-view+json": {
       "version_major": 2,
       "version_minor": 0,
       "model_id": "c6b311b802de4e4f8c69cdd95afff43b"
      }
     },
     "metadata": {}
    },
    {
     "output_type": "stream",
     "name": "stdout",
     "text": "5037\n"
    },
    {
     "output_type": "display_data",
     "data": {
      "text/plain": "IntProgress(value=38, max=1000)",
      "application/vnd.jupyter.widget-view+json": {
       "version_major": 2,
       "version_minor": 0,
       "model_id": "c6b311b802de4e4f8c69cdd95afff43b"
      }
     },
     "metadata": {}
    },
    {
     "output_type": "stream",
     "name": "stdout",
     "text": "5038\n"
    },
    {
     "output_type": "display_data",
     "data": {
      "text/plain": "IntProgress(value=39, max=1000)",
      "application/vnd.jupyter.widget-view+json": {
       "version_major": 2,
       "version_minor": 0,
       "model_id": "c6b311b802de4e4f8c69cdd95afff43b"
      }
     },
     "metadata": {}
    },
    {
     "output_type": "stream",
     "name": "stdout",
     "text": "5039\n"
    },
    {
     "output_type": "display_data",
     "data": {
      "text/plain": "IntProgress(value=40, max=1000)",
      "application/vnd.jupyter.widget-view+json": {
       "version_major": 2,
       "version_minor": 0,
       "model_id": "c6b311b802de4e4f8c69cdd95afff43b"
      }
     },
     "metadata": {}
    },
    {
     "output_type": "stream",
     "name": "stdout",
     "text": "5040\n"
    },
    {
     "output_type": "display_data",
     "data": {
      "text/plain": "IntProgress(value=41, max=1000)",
      "application/vnd.jupyter.widget-view+json": {
       "version_major": 2,
       "version_minor": 0,
       "model_id": "c6b311b802de4e4f8c69cdd95afff43b"
      }
     },
     "metadata": {}
    },
    {
     "output_type": "stream",
     "name": "stdout",
     "text": "5041\n"
    },
    {
     "output_type": "display_data",
     "data": {
      "text/plain": "IntProgress(value=42, max=1000)",
      "application/vnd.jupyter.widget-view+json": {
       "version_major": 2,
       "version_minor": 0,
       "model_id": "c6b311b802de4e4f8c69cdd95afff43b"
      }
     },
     "metadata": {}
    },
    {
     "output_type": "stream",
     "name": "stdout",
     "text": "5042\n"
    },
    {
     "output_type": "display_data",
     "data": {
      "text/plain": "IntProgress(value=43, max=1000)",
      "application/vnd.jupyter.widget-view+json": {
       "version_major": 2,
       "version_minor": 0,
       "model_id": "c6b311b802de4e4f8c69cdd95afff43b"
      }
     },
     "metadata": {}
    },
    {
     "output_type": "stream",
     "name": "stdout",
     "text": "5043\n"
    },
    {
     "output_type": "display_data",
     "data": {
      "text/plain": "IntProgress(value=44, max=1000)",
      "application/vnd.jupyter.widget-view+json": {
       "version_major": 2,
       "version_minor": 0,
       "model_id": "c6b311b802de4e4f8c69cdd95afff43b"
      }
     },
     "metadata": {}
    },
    {
     "output_type": "stream",
     "name": "stdout",
     "text": "5044\n"
    },
    {
     "output_type": "display_data",
     "data": {
      "text/plain": "IntProgress(value=45, max=1000)",
      "application/vnd.jupyter.widget-view+json": {
       "version_major": 2,
       "version_minor": 0,
       "model_id": "c6b311b802de4e4f8c69cdd95afff43b"
      }
     },
     "metadata": {}
    },
    {
     "output_type": "stream",
     "name": "stdout",
     "text": "5045\n"
    },
    {
     "output_type": "display_data",
     "data": {
      "text/plain": "IntProgress(value=46, max=1000)",
      "application/vnd.jupyter.widget-view+json": {
       "version_major": 2,
       "version_minor": 0,
       "model_id": "c6b311b802de4e4f8c69cdd95afff43b"
      }
     },
     "metadata": {}
    },
    {
     "output_type": "stream",
     "name": "stdout",
     "text": "5046\n"
    },
    {
     "output_type": "display_data",
     "data": {
      "text/plain": "IntProgress(value=47, max=1000)",
      "application/vnd.jupyter.widget-view+json": {
       "version_major": 2,
       "version_minor": 0,
       "model_id": "c6b311b802de4e4f8c69cdd95afff43b"
      }
     },
     "metadata": {}
    },
    {
     "output_type": "stream",
     "name": "stdout",
     "text": "5047\n"
    },
    {
     "output_type": "display_data",
     "data": {
      "text/plain": "IntProgress(value=48, max=1000)",
      "application/vnd.jupyter.widget-view+json": {
       "version_major": 2,
       "version_minor": 0,
       "model_id": "c6b311b802de4e4f8c69cdd95afff43b"
      }
     },
     "metadata": {}
    },
    {
     "output_type": "stream",
     "name": "stdout",
     "text": "5048\n"
    },
    {
     "output_type": "display_data",
     "data": {
      "text/plain": "IntProgress(value=49, max=1000)",
      "application/vnd.jupyter.widget-view+json": {
       "version_major": 2,
       "version_minor": 0,
       "model_id": "c6b311b802de4e4f8c69cdd95afff43b"
      }
     },
     "metadata": {}
    },
    {
     "output_type": "stream",
     "name": "stdout",
     "text": "5049\n"
    },
    {
     "output_type": "display_data",
     "data": {
      "text/plain": "IntProgress(value=50, max=1000)",
      "application/vnd.jupyter.widget-view+json": {
       "version_major": 2,
       "version_minor": 0,
       "model_id": "c6b311b802de4e4f8c69cdd95afff43b"
      }
     },
     "metadata": {}
    },
    {
     "output_type": "stream",
     "name": "stdout",
     "text": "5050\n"
    },
    {
     "output_type": "display_data",
     "data": {
      "text/plain": "IntProgress(value=51, max=1000)",
      "application/vnd.jupyter.widget-view+json": {
       "version_major": 2,
       "version_minor": 0,
       "model_id": "c6b311b802de4e4f8c69cdd95afff43b"
      }
     },
     "metadata": {}
    },
    {
     "output_type": "stream",
     "name": "stdout",
     "text": "5051\n"
    },
    {
     "output_type": "display_data",
     "data": {
      "text/plain": "IntProgress(value=52, max=1000)",
      "application/vnd.jupyter.widget-view+json": {
       "version_major": 2,
       "version_minor": 0,
       "model_id": "c6b311b802de4e4f8c69cdd95afff43b"
      }
     },
     "metadata": {}
    },
    {
     "output_type": "stream",
     "name": "stdout",
     "text": "5052\n"
    },
    {
     "output_type": "display_data",
     "data": {
      "text/plain": "IntProgress(value=53, max=1000)",
      "application/vnd.jupyter.widget-view+json": {
       "version_major": 2,
       "version_minor": 0,
       "model_id": "c6b311b802de4e4f8c69cdd95afff43b"
      }
     },
     "metadata": {}
    },
    {
     "output_type": "stream",
     "name": "stdout",
     "text": "5053\n"
    },
    {
     "output_type": "display_data",
     "data": {
      "text/plain": "IntProgress(value=54, max=1000)",
      "application/vnd.jupyter.widget-view+json": {
       "version_major": 2,
       "version_minor": 0,
       "model_id": "c6b311b802de4e4f8c69cdd95afff43b"
      }
     },
     "metadata": {}
    },
    {
     "output_type": "stream",
     "name": "stdout",
     "text": "5054\n"
    },
    {
     "output_type": "display_data",
     "data": {
      "text/plain": "IntProgress(value=55, max=1000)",
      "application/vnd.jupyter.widget-view+json": {
       "version_major": 2,
       "version_minor": 0,
       "model_id": "c6b311b802de4e4f8c69cdd95afff43b"
      }
     },
     "metadata": {}
    },
    {
     "output_type": "stream",
     "name": "stdout",
     "text": "5055\n"
    },
    {
     "output_type": "display_data",
     "data": {
      "text/plain": "IntProgress(value=56, max=1000)",
      "application/vnd.jupyter.widget-view+json": {
       "version_major": 2,
       "version_minor": 0,
       "model_id": "c6b311b802de4e4f8c69cdd95afff43b"
      }
     },
     "metadata": {}
    },
    {
     "output_type": "stream",
     "name": "stdout",
     "text": "5056\n"
    },
    {
     "output_type": "display_data",
     "data": {
      "text/plain": "IntProgress(value=57, max=1000)",
      "application/vnd.jupyter.widget-view+json": {
       "version_major": 2,
       "version_minor": 0,
       "model_id": "c6b311b802de4e4f8c69cdd95afff43b"
      }
     },
     "metadata": {}
    },
    {
     "output_type": "stream",
     "name": "stdout",
     "text": "5057\n"
    },
    {
     "output_type": "display_data",
     "data": {
      "text/plain": "IntProgress(value=58, max=1000)",
      "application/vnd.jupyter.widget-view+json": {
       "version_major": 2,
       "version_minor": 0,
       "model_id": "c6b311b802de4e4f8c69cdd95afff43b"
      }
     },
     "metadata": {}
    },
    {
     "output_type": "stream",
     "name": "stdout",
     "text": "5058\n"
    },
    {
     "output_type": "display_data",
     "data": {
      "text/plain": "IntProgress(value=59, max=1000)",
      "application/vnd.jupyter.widget-view+json": {
       "version_major": 2,
       "version_minor": 0,
       "model_id": "c6b311b802de4e4f8c69cdd95afff43b"
      }
     },
     "metadata": {}
    },
    {
     "output_type": "stream",
     "name": "stdout",
     "text": "5059\n"
    },
    {
     "output_type": "display_data",
     "data": {
      "text/plain": "IntProgress(value=60, max=1000)",
      "application/vnd.jupyter.widget-view+json": {
       "version_major": 2,
       "version_minor": 0,
       "model_id": "c6b311b802de4e4f8c69cdd95afff43b"
      }
     },
     "metadata": {}
    },
    {
     "output_type": "stream",
     "name": "stdout",
     "text": "5060\n"
    },
    {
     "output_type": "display_data",
     "data": {
      "text/plain": "IntProgress(value=61, max=1000)",
      "application/vnd.jupyter.widget-view+json": {
       "version_major": 2,
       "version_minor": 0,
       "model_id": "c6b311b802de4e4f8c69cdd95afff43b"
      }
     },
     "metadata": {}
    },
    {
     "output_type": "stream",
     "name": "stdout",
     "text": "5061\n"
    },
    {
     "output_type": "display_data",
     "data": {
      "text/plain": "IntProgress(value=62, max=1000)",
      "application/vnd.jupyter.widget-view+json": {
       "version_major": 2,
       "version_minor": 0,
       "model_id": "c6b311b802de4e4f8c69cdd95afff43b"
      }
     },
     "metadata": {}
    },
    {
     "output_type": "stream",
     "name": "stdout",
     "text": "5062\n"
    },
    {
     "output_type": "display_data",
     "data": {
      "text/plain": "IntProgress(value=63, max=1000)",
      "application/vnd.jupyter.widget-view+json": {
       "version_major": 2,
       "version_minor": 0,
       "model_id": "c6b311b802de4e4f8c69cdd95afff43b"
      }
     },
     "metadata": {}
    },
    {
     "output_type": "stream",
     "name": "stdout",
     "text": "5063\n"
    },
    {
     "output_type": "display_data",
     "data": {
      "text/plain": "IntProgress(value=64, max=1000)",
      "application/vnd.jupyter.widget-view+json": {
       "version_major": 2,
       "version_minor": 0,
       "model_id": "c6b311b802de4e4f8c69cdd95afff43b"
      }
     },
     "metadata": {}
    },
    {
     "output_type": "stream",
     "name": "stdout",
     "text": "5064\n"
    },
    {
     "output_type": "display_data",
     "data": {
      "text/plain": "IntProgress(value=65, max=1000)",
      "application/vnd.jupyter.widget-view+json": {
       "version_major": 2,
       "version_minor": 0,
       "model_id": "c6b311b802de4e4f8c69cdd95afff43b"
      }
     },
     "metadata": {}
    },
    {
     "output_type": "stream",
     "name": "stdout",
     "text": "5065\n"
    },
    {
     "output_type": "display_data",
     "data": {
      "text/plain": "IntProgress(value=66, max=1000)",
      "application/vnd.jupyter.widget-view+json": {
       "version_major": 2,
       "version_minor": 0,
       "model_id": "c6b311b802de4e4f8c69cdd95afff43b"
      }
     },
     "metadata": {}
    },
    {
     "output_type": "stream",
     "name": "stdout",
     "text": "5066\n"
    },
    {
     "output_type": "display_data",
     "data": {
      "text/plain": "IntProgress(value=67, max=1000)",
      "application/vnd.jupyter.widget-view+json": {
       "version_major": 2,
       "version_minor": 0,
       "model_id": "c6b311b802de4e4f8c69cdd95afff43b"
      }
     },
     "metadata": {}
    },
    {
     "output_type": "stream",
     "name": "stdout",
     "text": "5067\n"
    },
    {
     "output_type": "display_data",
     "data": {
      "text/plain": "IntProgress(value=68, max=1000)",
      "application/vnd.jupyter.widget-view+json": {
       "version_major": 2,
       "version_minor": 0,
       "model_id": "c6b311b802de4e4f8c69cdd95afff43b"
      }
     },
     "metadata": {}
    },
    {
     "output_type": "stream",
     "name": "stdout",
     "text": "5068\n"
    },
    {
     "output_type": "display_data",
     "data": {
      "text/plain": "IntProgress(value=69, max=1000)",
      "application/vnd.jupyter.widget-view+json": {
       "version_major": 2,
       "version_minor": 0,
       "model_id": "c6b311b802de4e4f8c69cdd95afff43b"
      }
     },
     "metadata": {}
    },
    {
     "output_type": "stream",
     "name": "stdout",
     "text": "5069\n"
    },
    {
     "output_type": "display_data",
     "data": {
      "text/plain": "IntProgress(value=70, max=1000)",
      "application/vnd.jupyter.widget-view+json": {
       "version_major": 2,
       "version_minor": 0,
       "model_id": "c6b311b802de4e4f8c69cdd95afff43b"
      }
     },
     "metadata": {}
    },
    {
     "output_type": "stream",
     "name": "stdout",
     "text": "5070\n"
    },
    {
     "output_type": "display_data",
     "data": {
      "text/plain": "IntProgress(value=71, max=1000)",
      "application/vnd.jupyter.widget-view+json": {
       "version_major": 2,
       "version_minor": 0,
       "model_id": "c6b311b802de4e4f8c69cdd95afff43b"
      }
     },
     "metadata": {}
    },
    {
     "output_type": "stream",
     "name": "stdout",
     "text": "5071\n"
    },
    {
     "output_type": "display_data",
     "data": {
      "text/plain": "IntProgress(value=72, max=1000)",
      "application/vnd.jupyter.widget-view+json": {
       "version_major": 2,
       "version_minor": 0,
       "model_id": "c6b311b802de4e4f8c69cdd95afff43b"
      }
     },
     "metadata": {}
    },
    {
     "output_type": "stream",
     "name": "stdout",
     "text": "5072\n"
    },
    {
     "output_type": "display_data",
     "data": {
      "text/plain": "IntProgress(value=73, max=1000)",
      "application/vnd.jupyter.widget-view+json": {
       "version_major": 2,
       "version_minor": 0,
       "model_id": "c6b311b802de4e4f8c69cdd95afff43b"
      }
     },
     "metadata": {}
    },
    {
     "output_type": "stream",
     "name": "stdout",
     "text": "5073\n"
    },
    {
     "output_type": "display_data",
     "data": {
      "text/plain": "IntProgress(value=74, max=1000)",
      "application/vnd.jupyter.widget-view+json": {
       "version_major": 2,
       "version_minor": 0,
       "model_id": "c6b311b802de4e4f8c69cdd95afff43b"
      }
     },
     "metadata": {}
    },
    {
     "output_type": "stream",
     "name": "stdout",
     "text": "5074\n"
    },
    {
     "output_type": "display_data",
     "data": {
      "text/plain": "IntProgress(value=75, max=1000)",
      "application/vnd.jupyter.widget-view+json": {
       "version_major": 2,
       "version_minor": 0,
       "model_id": "c6b311b802de4e4f8c69cdd95afff43b"
      }
     },
     "metadata": {}
    },
    {
     "output_type": "stream",
     "name": "stdout",
     "text": "5075\n"
    },
    {
     "output_type": "display_data",
     "data": {
      "text/plain": "IntProgress(value=76, max=1000)",
      "application/vnd.jupyter.widget-view+json": {
       "version_major": 2,
       "version_minor": 0,
       "model_id": "c6b311b802de4e4f8c69cdd95afff43b"
      }
     },
     "metadata": {}
    },
    {
     "output_type": "stream",
     "name": "stdout",
     "text": "5076\n"
    },
    {
     "output_type": "display_data",
     "data": {
      "text/plain": "IntProgress(value=77, max=1000)",
      "application/vnd.jupyter.widget-view+json": {
       "version_major": 2,
       "version_minor": 0,
       "model_id": "c6b311b802de4e4f8c69cdd95afff43b"
      }
     },
     "metadata": {}
    },
    {
     "output_type": "stream",
     "name": "stdout",
     "text": "5077\n"
    },
    {
     "output_type": "display_data",
     "data": {
      "text/plain": "IntProgress(value=78, max=1000)",
      "application/vnd.jupyter.widget-view+json": {
       "version_major": 2,
       "version_minor": 0,
       "model_id": "c6b311b802de4e4f8c69cdd95afff43b"
      }
     },
     "metadata": {}
    },
    {
     "output_type": "stream",
     "name": "stdout",
     "text": "5078\n"
    },
    {
     "output_type": "display_data",
     "data": {
      "text/plain": "IntProgress(value=79, max=1000)",
      "application/vnd.jupyter.widget-view+json": {
       "version_major": 2,
       "version_minor": 0,
       "model_id": "c6b311b802de4e4f8c69cdd95afff43b"
      }
     },
     "metadata": {}
    },
    {
     "output_type": "stream",
     "name": "stdout",
     "text": "5079\n"
    },
    {
     "output_type": "display_data",
     "data": {
      "text/plain": "IntProgress(value=80, max=1000)",
      "application/vnd.jupyter.widget-view+json": {
       "version_major": 2,
       "version_minor": 0,
       "model_id": "c6b311b802de4e4f8c69cdd95afff43b"
      }
     },
     "metadata": {}
    },
    {
     "output_type": "stream",
     "name": "stdout",
     "text": "5080\n"
    },
    {
     "output_type": "display_data",
     "data": {
      "text/plain": "IntProgress(value=81, max=1000)",
      "application/vnd.jupyter.widget-view+json": {
       "version_major": 2,
       "version_minor": 0,
       "model_id": "c6b311b802de4e4f8c69cdd95afff43b"
      }
     },
     "metadata": {}
    },
    {
     "output_type": "stream",
     "name": "stdout",
     "text": "5081\n"
    },
    {
     "output_type": "display_data",
     "data": {
      "text/plain": "IntProgress(value=82, max=1000)",
      "application/vnd.jupyter.widget-view+json": {
       "version_major": 2,
       "version_minor": 0,
       "model_id": "c6b311b802de4e4f8c69cdd95afff43b"
      }
     },
     "metadata": {}
    },
    {
     "output_type": "stream",
     "name": "stdout",
     "text": "5082\n"
    },
    {
     "output_type": "display_data",
     "data": {
      "text/plain": "IntProgress(value=83, max=1000)",
      "application/vnd.jupyter.widget-view+json": {
       "version_major": 2,
       "version_minor": 0,
       "model_id": "c6b311b802de4e4f8c69cdd95afff43b"
      }
     },
     "metadata": {}
    },
    {
     "output_type": "stream",
     "name": "stdout",
     "text": "5083\n"
    },
    {
     "output_type": "display_data",
     "data": {
      "text/plain": "IntProgress(value=84, max=1000)",
      "application/vnd.jupyter.widget-view+json": {
       "version_major": 2,
       "version_minor": 0,
       "model_id": "c6b311b802de4e4f8c69cdd95afff43b"
      }
     },
     "metadata": {}
    },
    {
     "output_type": "stream",
     "name": "stdout",
     "text": "5084\n"
    },
    {
     "output_type": "display_data",
     "data": {
      "text/plain": "IntProgress(value=85, max=1000)",
      "application/vnd.jupyter.widget-view+json": {
       "version_major": 2,
       "version_minor": 0,
       "model_id": "c6b311b802de4e4f8c69cdd95afff43b"
      }
     },
     "metadata": {}
    },
    {
     "output_type": "stream",
     "name": "stdout",
     "text": "5085\n"
    },
    {
     "output_type": "display_data",
     "data": {
      "text/plain": "IntProgress(value=86, max=1000)",
      "application/vnd.jupyter.widget-view+json": {
       "version_major": 2,
       "version_minor": 0,
       "model_id": "c6b311b802de4e4f8c69cdd95afff43b"
      }
     },
     "metadata": {}
    },
    {
     "output_type": "stream",
     "name": "stdout",
     "text": "5086\n"
    },
    {
     "output_type": "display_data",
     "data": {
      "text/plain": "IntProgress(value=87, max=1000)",
      "application/vnd.jupyter.widget-view+json": {
       "version_major": 2,
       "version_minor": 0,
       "model_id": "c6b311b802de4e4f8c69cdd95afff43b"
      }
     },
     "metadata": {}
    },
    {
     "output_type": "stream",
     "name": "stdout",
     "text": "5087\n"
    },
    {
     "output_type": "display_data",
     "data": {
      "text/plain": "IntProgress(value=88, max=1000)",
      "application/vnd.jupyter.widget-view+json": {
       "version_major": 2,
       "version_minor": 0,
       "model_id": "c6b311b802de4e4f8c69cdd95afff43b"
      }
     },
     "metadata": {}
    },
    {
     "output_type": "stream",
     "name": "stdout",
     "text": "5088\n"
    },
    {
     "output_type": "display_data",
     "data": {
      "text/plain": "IntProgress(value=89, max=1000)",
      "application/vnd.jupyter.widget-view+json": {
       "version_major": 2,
       "version_minor": 0,
       "model_id": "c6b311b802de4e4f8c69cdd95afff43b"
      }
     },
     "metadata": {}
    },
    {
     "output_type": "stream",
     "name": "stdout",
     "text": "5089\n"
    },
    {
     "output_type": "display_data",
     "data": {
      "text/plain": "IntProgress(value=90, max=1000)",
      "application/vnd.jupyter.widget-view+json": {
       "version_major": 2,
       "version_minor": 0,
       "model_id": "c6b311b802de4e4f8c69cdd95afff43b"
      }
     },
     "metadata": {}
    },
    {
     "output_type": "stream",
     "name": "stdout",
     "text": "5090\n"
    },
    {
     "output_type": "display_data",
     "data": {
      "text/plain": "IntProgress(value=91, max=1000)",
      "application/vnd.jupyter.widget-view+json": {
       "version_major": 2,
       "version_minor": 0,
       "model_id": "c6b311b802de4e4f8c69cdd95afff43b"
      }
     },
     "metadata": {}
    },
    {
     "output_type": "stream",
     "name": "stdout",
     "text": "5091\n"
    },
    {
     "output_type": "display_data",
     "data": {
      "text/plain": "IntProgress(value=92, max=1000)",
      "application/vnd.jupyter.widget-view+json": {
       "version_major": 2,
       "version_minor": 0,
       "model_id": "c6b311b802de4e4f8c69cdd95afff43b"
      }
     },
     "metadata": {}
    },
    {
     "output_type": "stream",
     "name": "stdout",
     "text": "5092\n"
    },
    {
     "output_type": "display_data",
     "data": {
      "text/plain": "IntProgress(value=93, max=1000)",
      "application/vnd.jupyter.widget-view+json": {
       "version_major": 2,
       "version_minor": 0,
       "model_id": "c6b311b802de4e4f8c69cdd95afff43b"
      }
     },
     "metadata": {}
    },
    {
     "output_type": "stream",
     "name": "stdout",
     "text": "5093\n"
    },
    {
     "output_type": "display_data",
     "data": {
      "text/plain": "IntProgress(value=94, max=1000)",
      "application/vnd.jupyter.widget-view+json": {
       "version_major": 2,
       "version_minor": 0,
       "model_id": "c6b311b802de4e4f8c69cdd95afff43b"
      }
     },
     "metadata": {}
    },
    {
     "output_type": "stream",
     "name": "stdout",
     "text": "5094\n"
    },
    {
     "output_type": "display_data",
     "data": {
      "text/plain": "IntProgress(value=95, max=1000)",
      "application/vnd.jupyter.widget-view+json": {
       "version_major": 2,
       "version_minor": 0,
       "model_id": "c6b311b802de4e4f8c69cdd95afff43b"
      }
     },
     "metadata": {}
    },
    {
     "output_type": "stream",
     "name": "stdout",
     "text": "5095\n"
    },
    {
     "output_type": "display_data",
     "data": {
      "text/plain": "IntProgress(value=96, max=1000)",
      "application/vnd.jupyter.widget-view+json": {
       "version_major": 2,
       "version_minor": 0,
       "model_id": "c6b311b802de4e4f8c69cdd95afff43b"
      }
     },
     "metadata": {}
    },
    {
     "output_type": "stream",
     "name": "stdout",
     "text": "5096\n"
    },
    {
     "output_type": "display_data",
     "data": {
      "text/plain": "IntProgress(value=97, max=1000)",
      "application/vnd.jupyter.widget-view+json": {
       "version_major": 2,
       "version_minor": 0,
       "model_id": "c6b311b802de4e4f8c69cdd95afff43b"
      }
     },
     "metadata": {}
    },
    {
     "output_type": "stream",
     "name": "stdout",
     "text": "5097\n"
    },
    {
     "output_type": "display_data",
     "data": {
      "text/plain": "IntProgress(value=98, max=1000)",
      "application/vnd.jupyter.widget-view+json": {
       "version_major": 2,
       "version_minor": 0,
       "model_id": "c6b311b802de4e4f8c69cdd95afff43b"
      }
     },
     "metadata": {}
    },
    {
     "output_type": "stream",
     "name": "stdout",
     "text": "5098\n"
    },
    {
     "output_type": "display_data",
     "data": {
      "text/plain": "IntProgress(value=99, max=1000)",
      "application/vnd.jupyter.widget-view+json": {
       "version_major": 2,
       "version_minor": 0,
       "model_id": "c6b311b802de4e4f8c69cdd95afff43b"
      }
     },
     "metadata": {}
    },
    {
     "output_type": "stream",
     "name": "stdout",
     "text": "5099\n"
    },
    {
     "output_type": "display_data",
     "data": {
      "text/plain": "IntProgress(value=100, max=1000)",
      "application/vnd.jupyter.widget-view+json": {
       "version_major": 2,
       "version_minor": 0,
       "model_id": "c6b311b802de4e4f8c69cdd95afff43b"
      }
     },
     "metadata": {}
    },
    {
     "output_type": "stream",
     "name": "stdout",
     "text": "5100\n"
    },
    {
     "output_type": "display_data",
     "data": {
      "text/plain": "IntProgress(value=101, max=1000)",
      "application/vnd.jupyter.widget-view+json": {
       "version_major": 2,
       "version_minor": 0,
       "model_id": "c6b311b802de4e4f8c69cdd95afff43b"
      }
     },
     "metadata": {}
    },
    {
     "output_type": "stream",
     "name": "stdout",
     "text": "5101\n"
    },
    {
     "output_type": "display_data",
     "data": {
      "text/plain": "IntProgress(value=102, max=1000)",
      "application/vnd.jupyter.widget-view+json": {
       "version_major": 2,
       "version_minor": 0,
       "model_id": "c6b311b802de4e4f8c69cdd95afff43b"
      }
     },
     "metadata": {}
    },
    {
     "output_type": "stream",
     "name": "stdout",
     "text": "5102\n"
    },
    {
     "output_type": "display_data",
     "data": {
      "text/plain": "IntProgress(value=103, max=1000)",
      "application/vnd.jupyter.widget-view+json": {
       "version_major": 2,
       "version_minor": 0,
       "model_id": "c6b311b802de4e4f8c69cdd95afff43b"
      }
     },
     "metadata": {}
    },
    {
     "output_type": "stream",
     "name": "stdout",
     "text": "5103\n"
    },
    {
     "output_type": "display_data",
     "data": {
      "text/plain": "IntProgress(value=104, max=1000)",
      "application/vnd.jupyter.widget-view+json": {
       "version_major": 2,
       "version_minor": 0,
       "model_id": "c6b311b802de4e4f8c69cdd95afff43b"
      }
     },
     "metadata": {}
    },
    {
     "output_type": "stream",
     "name": "stdout",
     "text": "5104\n"
    },
    {
     "output_type": "display_data",
     "data": {
      "text/plain": "IntProgress(value=105, max=1000)",
      "application/vnd.jupyter.widget-view+json": {
       "version_major": 2,
       "version_minor": 0,
       "model_id": "c6b311b802de4e4f8c69cdd95afff43b"
      }
     },
     "metadata": {}
    },
    {
     "output_type": "stream",
     "name": "stdout",
     "text": "5105\n"
    },
    {
     "output_type": "display_data",
     "data": {
      "text/plain": "IntProgress(value=106, max=1000)",
      "application/vnd.jupyter.widget-view+json": {
       "version_major": 2,
       "version_minor": 0,
       "model_id": "c6b311b802de4e4f8c69cdd95afff43b"
      }
     },
     "metadata": {}
    },
    {
     "output_type": "stream",
     "name": "stdout",
     "text": "5106\n"
    },
    {
     "output_type": "display_data",
     "data": {
      "text/plain": "IntProgress(value=107, max=1000)",
      "application/vnd.jupyter.widget-view+json": {
       "version_major": 2,
       "version_minor": 0,
       "model_id": "c6b311b802de4e4f8c69cdd95afff43b"
      }
     },
     "metadata": {}
    },
    {
     "output_type": "stream",
     "name": "stdout",
     "text": "5107\n"
    },
    {
     "output_type": "display_data",
     "data": {
      "text/plain": "IntProgress(value=108, max=1000)",
      "application/vnd.jupyter.widget-view+json": {
       "version_major": 2,
       "version_minor": 0,
       "model_id": "c6b311b802de4e4f8c69cdd95afff43b"
      }
     },
     "metadata": {}
    },
    {
     "output_type": "stream",
     "name": "stdout",
     "text": "5108\n"
    },
    {
     "output_type": "display_data",
     "data": {
      "text/plain": "IntProgress(value=109, max=1000)",
      "application/vnd.jupyter.widget-view+json": {
       "version_major": 2,
       "version_minor": 0,
       "model_id": "c6b311b802de4e4f8c69cdd95afff43b"
      }
     },
     "metadata": {}
    },
    {
     "output_type": "stream",
     "name": "stdout",
     "text": "5109\n"
    },
    {
     "output_type": "display_data",
     "data": {
      "text/plain": "IntProgress(value=110, max=1000)",
      "application/vnd.jupyter.widget-view+json": {
       "version_major": 2,
       "version_minor": 0,
       "model_id": "c6b311b802de4e4f8c69cdd95afff43b"
      }
     },
     "metadata": {}
    },
    {
     "output_type": "stream",
     "name": "stdout",
     "text": "5110\n"
    },
    {
     "output_type": "display_data",
     "data": {
      "text/plain": "IntProgress(value=111, max=1000)",
      "application/vnd.jupyter.widget-view+json": {
       "version_major": 2,
       "version_minor": 0,
       "model_id": "c6b311b802de4e4f8c69cdd95afff43b"
      }
     },
     "metadata": {}
    },
    {
     "output_type": "stream",
     "name": "stdout",
     "text": "5111\n"
    },
    {
     "output_type": "display_data",
     "data": {
      "text/plain": "IntProgress(value=112, max=1000)",
      "application/vnd.jupyter.widget-view+json": {
       "version_major": 2,
       "version_minor": 0,
       "model_id": "c6b311b802de4e4f8c69cdd95afff43b"
      }
     },
     "metadata": {}
    },
    {
     "output_type": "stream",
     "name": "stdout",
     "text": "5112\n"
    },
    {
     "output_type": "display_data",
     "data": {
      "text/plain": "IntProgress(value=113, max=1000)",
      "application/vnd.jupyter.widget-view+json": {
       "version_major": 2,
       "version_minor": 0,
       "model_id": "c6b311b802de4e4f8c69cdd95afff43b"
      }
     },
     "metadata": {}
    },
    {
     "output_type": "stream",
     "name": "stdout",
     "text": "5113\n"
    },
    {
     "output_type": "display_data",
     "data": {
      "text/plain": "IntProgress(value=114, max=1000)",
      "application/vnd.jupyter.widget-view+json": {
       "version_major": 2,
       "version_minor": 0,
       "model_id": "c6b311b802de4e4f8c69cdd95afff43b"
      }
     },
     "metadata": {}
    },
    {
     "output_type": "stream",
     "name": "stdout",
     "text": "5114\n"
    },
    {
     "output_type": "display_data",
     "data": {
      "text/plain": "IntProgress(value=115, max=1000)",
      "application/vnd.jupyter.widget-view+json": {
       "version_major": 2,
       "version_minor": 0,
       "model_id": "c6b311b802de4e4f8c69cdd95afff43b"
      }
     },
     "metadata": {}
    },
    {
     "output_type": "stream",
     "name": "stdout",
     "text": "5115\n"
    },
    {
     "output_type": "display_data",
     "data": {
      "text/plain": "IntProgress(value=116, max=1000)",
      "application/vnd.jupyter.widget-view+json": {
       "version_major": 2,
       "version_minor": 0,
       "model_id": "c6b311b802de4e4f8c69cdd95afff43b"
      }
     },
     "metadata": {}
    },
    {
     "output_type": "stream",
     "name": "stdout",
     "text": "5116\n"
    },
    {
     "output_type": "display_data",
     "data": {
      "text/plain": "IntProgress(value=117, max=1000)",
      "application/vnd.jupyter.widget-view+json": {
       "version_major": 2,
       "version_minor": 0,
       "model_id": "c6b311b802de4e4f8c69cdd95afff43b"
      }
     },
     "metadata": {}
    },
    {
     "output_type": "stream",
     "name": "stdout",
     "text": "5117\n"
    },
    {
     "output_type": "display_data",
     "data": {
      "text/plain": "IntProgress(value=118, max=1000)",
      "application/vnd.jupyter.widget-view+json": {
       "version_major": 2,
       "version_minor": 0,
       "model_id": "c6b311b802de4e4f8c69cdd95afff43b"
      }
     },
     "metadata": {}
    },
    {
     "output_type": "stream",
     "name": "stdout",
     "text": "5118\n"
    },
    {
     "output_type": "display_data",
     "data": {
      "text/plain": "IntProgress(value=119, max=1000)",
      "application/vnd.jupyter.widget-view+json": {
       "version_major": 2,
       "version_minor": 0,
       "model_id": "c6b311b802de4e4f8c69cdd95afff43b"
      }
     },
     "metadata": {}
    },
    {
     "output_type": "stream",
     "name": "stdout",
     "text": "5119\n"
    },
    {
     "output_type": "display_data",
     "data": {
      "text/plain": "IntProgress(value=120, max=1000)",
      "application/vnd.jupyter.widget-view+json": {
       "version_major": 2,
       "version_minor": 0,
       "model_id": "c6b311b802de4e4f8c69cdd95afff43b"
      }
     },
     "metadata": {}
    },
    {
     "output_type": "stream",
     "name": "stdout",
     "text": "5120\n"
    },
    {
     "output_type": "display_data",
     "data": {
      "text/plain": "IntProgress(value=121, max=1000)",
      "application/vnd.jupyter.widget-view+json": {
       "version_major": 2,
       "version_minor": 0,
       "model_id": "c6b311b802de4e4f8c69cdd95afff43b"
      }
     },
     "metadata": {}
    },
    {
     "output_type": "stream",
     "name": "stdout",
     "text": "5121\n"
    },
    {
     "output_type": "display_data",
     "data": {
      "text/plain": "IntProgress(value=122, max=1000)",
      "application/vnd.jupyter.widget-view+json": {
       "version_major": 2,
       "version_minor": 0,
       "model_id": "c6b311b802de4e4f8c69cdd95afff43b"
      }
     },
     "metadata": {}
    },
    {
     "output_type": "stream",
     "name": "stdout",
     "text": "5122\n"
    },
    {
     "output_type": "display_data",
     "data": {
      "text/plain": "IntProgress(value=123, max=1000)",
      "application/vnd.jupyter.widget-view+json": {
       "version_major": 2,
       "version_minor": 0,
       "model_id": "c6b311b802de4e4f8c69cdd95afff43b"
      }
     },
     "metadata": {}
    },
    {
     "output_type": "stream",
     "name": "stdout",
     "text": "5123\n"
    },
    {
     "output_type": "display_data",
     "data": {
      "text/plain": "IntProgress(value=124, max=1000)",
      "application/vnd.jupyter.widget-view+json": {
       "version_major": 2,
       "version_minor": 0,
       "model_id": "c6b311b802de4e4f8c69cdd95afff43b"
      }
     },
     "metadata": {}
    },
    {
     "output_type": "stream",
     "name": "stdout",
     "text": "5124\n"
    },
    {
     "output_type": "display_data",
     "data": {
      "text/plain": "IntProgress(value=125, max=1000)",
      "application/vnd.jupyter.widget-view+json": {
       "version_major": 2,
       "version_minor": 0,
       "model_id": "c6b311b802de4e4f8c69cdd95afff43b"
      }
     },
     "metadata": {}
    },
    {
     "output_type": "stream",
     "name": "stdout",
     "text": "5125\n"
    },
    {
     "output_type": "display_data",
     "data": {
      "text/plain": "IntProgress(value=126, max=1000)",
      "application/vnd.jupyter.widget-view+json": {
       "version_major": 2,
       "version_minor": 0,
       "model_id": "c6b311b802de4e4f8c69cdd95afff43b"
      }
     },
     "metadata": {}
    },
    {
     "output_type": "stream",
     "name": "stdout",
     "text": "5126\n"
    },
    {
     "output_type": "display_data",
     "data": {
      "text/plain": "IntProgress(value=127, max=1000)",
      "application/vnd.jupyter.widget-view+json": {
       "version_major": 2,
       "version_minor": 0,
       "model_id": "c6b311b802de4e4f8c69cdd95afff43b"
      }
     },
     "metadata": {}
    },
    {
     "output_type": "stream",
     "name": "stdout",
     "text": "5127\n"
    },
    {
     "output_type": "display_data",
     "data": {
      "text/plain": "IntProgress(value=128, max=1000)",
      "application/vnd.jupyter.widget-view+json": {
       "version_major": 2,
       "version_minor": 0,
       "model_id": "c6b311b802de4e4f8c69cdd95afff43b"
      }
     },
     "metadata": {}
    },
    {
     "output_type": "stream",
     "name": "stdout",
     "text": "5128\n"
    },
    {
     "output_type": "display_data",
     "data": {
      "text/plain": "IntProgress(value=129, max=1000)",
      "application/vnd.jupyter.widget-view+json": {
       "version_major": 2,
       "version_minor": 0,
       "model_id": "c6b311b802de4e4f8c69cdd95afff43b"
      }
     },
     "metadata": {}
    },
    {
     "output_type": "stream",
     "name": "stdout",
     "text": "5129\n"
    },
    {
     "output_type": "display_data",
     "data": {
      "text/plain": "IntProgress(value=130, max=1000)",
      "application/vnd.jupyter.widget-view+json": {
       "version_major": 2,
       "version_minor": 0,
       "model_id": "c6b311b802de4e4f8c69cdd95afff43b"
      }
     },
     "metadata": {}
    },
    {
     "output_type": "stream",
     "name": "stdout",
     "text": "5130\n"
    },
    {
     "output_type": "display_data",
     "data": {
      "text/plain": "IntProgress(value=131, max=1000)",
      "application/vnd.jupyter.widget-view+json": {
       "version_major": 2,
       "version_minor": 0,
       "model_id": "c6b311b802de4e4f8c69cdd95afff43b"
      }
     },
     "metadata": {}
    },
    {
     "output_type": "stream",
     "name": "stdout",
     "text": "5131\n"
    },
    {
     "output_type": "display_data",
     "data": {
      "text/plain": "IntProgress(value=132, max=1000)",
      "application/vnd.jupyter.widget-view+json": {
       "version_major": 2,
       "version_minor": 0,
       "model_id": "c6b311b802de4e4f8c69cdd95afff43b"
      }
     },
     "metadata": {}
    },
    {
     "output_type": "stream",
     "name": "stdout",
     "text": "5132\n"
    },
    {
     "output_type": "display_data",
     "data": {
      "text/plain": "IntProgress(value=133, max=1000)",
      "application/vnd.jupyter.widget-view+json": {
       "version_major": 2,
       "version_minor": 0,
       "model_id": "c6b311b802de4e4f8c69cdd95afff43b"
      }
     },
     "metadata": {}
    },
    {
     "output_type": "stream",
     "name": "stdout",
     "text": "5133\n"
    },
    {
     "output_type": "display_data",
     "data": {
      "text/plain": "IntProgress(value=134, max=1000)",
      "application/vnd.jupyter.widget-view+json": {
       "version_major": 2,
       "version_minor": 0,
       "model_id": "c6b311b802de4e4f8c69cdd95afff43b"
      }
     },
     "metadata": {}
    },
    {
     "output_type": "stream",
     "name": "stdout",
     "text": "5134\n"
    },
    {
     "output_type": "display_data",
     "data": {
      "text/plain": "IntProgress(value=135, max=1000)",
      "application/vnd.jupyter.widget-view+json": {
       "version_major": 2,
       "version_minor": 0,
       "model_id": "c6b311b802de4e4f8c69cdd95afff43b"
      }
     },
     "metadata": {}
    },
    {
     "output_type": "stream",
     "name": "stdout",
     "text": "5135\n"
    },
    {
     "output_type": "display_data",
     "data": {
      "text/plain": "IntProgress(value=136, max=1000)",
      "application/vnd.jupyter.widget-view+json": {
       "version_major": 2,
       "version_minor": 0,
       "model_id": "c6b311b802de4e4f8c69cdd95afff43b"
      }
     },
     "metadata": {}
    },
    {
     "output_type": "stream",
     "name": "stdout",
     "text": "5136\n"
    },
    {
     "output_type": "display_data",
     "data": {
      "text/plain": "IntProgress(value=137, max=1000)",
      "application/vnd.jupyter.widget-view+json": {
       "version_major": 2,
       "version_minor": 0,
       "model_id": "c6b311b802de4e4f8c69cdd95afff43b"
      }
     },
     "metadata": {}
    },
    {
     "output_type": "stream",
     "name": "stdout",
     "text": "5137\n"
    },
    {
     "output_type": "display_data",
     "data": {
      "text/plain": "IntProgress(value=138, max=1000)",
      "application/vnd.jupyter.widget-view+json": {
       "version_major": 2,
       "version_minor": 0,
       "model_id": "c6b311b802de4e4f8c69cdd95afff43b"
      }
     },
     "metadata": {}
    },
    {
     "output_type": "stream",
     "name": "stdout",
     "text": "5138\n"
    },
    {
     "output_type": "display_data",
     "data": {
      "text/plain": "IntProgress(value=139, max=1000)",
      "application/vnd.jupyter.widget-view+json": {
       "version_major": 2,
       "version_minor": 0,
       "model_id": "c6b311b802de4e4f8c69cdd95afff43b"
      }
     },
     "metadata": {}
    },
    {
     "output_type": "stream",
     "name": "stdout",
     "text": "5139\n"
    },
    {
     "output_type": "display_data",
     "data": {
      "text/plain": "IntProgress(value=140, max=1000)",
      "application/vnd.jupyter.widget-view+json": {
       "version_major": 2,
       "version_minor": 0,
       "model_id": "c6b311b802de4e4f8c69cdd95afff43b"
      }
     },
     "metadata": {}
    },
    {
     "output_type": "stream",
     "name": "stdout",
     "text": "5140\n"
    },
    {
     "output_type": "display_data",
     "data": {
      "text/plain": "IntProgress(value=141, max=1000)",
      "application/vnd.jupyter.widget-view+json": {
       "version_major": 2,
       "version_minor": 0,
       "model_id": "c6b311b802de4e4f8c69cdd95afff43b"
      }
     },
     "metadata": {}
    },
    {
     "output_type": "stream",
     "name": "stdout",
     "text": "5141\n"
    },
    {
     "output_type": "display_data",
     "data": {
      "text/plain": "IntProgress(value=142, max=1000)",
      "application/vnd.jupyter.widget-view+json": {
       "version_major": 2,
       "version_minor": 0,
       "model_id": "c6b311b802de4e4f8c69cdd95afff43b"
      }
     },
     "metadata": {}
    },
    {
     "output_type": "stream",
     "name": "stdout",
     "text": "5142\n"
    },
    {
     "output_type": "display_data",
     "data": {
      "text/plain": "IntProgress(value=143, max=1000)",
      "application/vnd.jupyter.widget-view+json": {
       "version_major": 2,
       "version_minor": 0,
       "model_id": "c6b311b802de4e4f8c69cdd95afff43b"
      }
     },
     "metadata": {}
    },
    {
     "output_type": "stream",
     "name": "stdout",
     "text": "5143\n"
    },
    {
     "output_type": "display_data",
     "data": {
      "text/plain": "IntProgress(value=144, max=1000)",
      "application/vnd.jupyter.widget-view+json": {
       "version_major": 2,
       "version_minor": 0,
       "model_id": "c6b311b802de4e4f8c69cdd95afff43b"
      }
     },
     "metadata": {}
    },
    {
     "output_type": "stream",
     "name": "stdout",
     "text": "5144\n"
    },
    {
     "output_type": "display_data",
     "data": {
      "text/plain": "IntProgress(value=145, max=1000)",
      "application/vnd.jupyter.widget-view+json": {
       "version_major": 2,
       "version_minor": 0,
       "model_id": "c6b311b802de4e4f8c69cdd95afff43b"
      }
     },
     "metadata": {}
    },
    {
     "output_type": "stream",
     "name": "stdout",
     "text": "5145\n"
    },
    {
     "output_type": "display_data",
     "data": {
      "text/plain": "IntProgress(value=146, max=1000)",
      "application/vnd.jupyter.widget-view+json": {
       "version_major": 2,
       "version_minor": 0,
       "model_id": "c6b311b802de4e4f8c69cdd95afff43b"
      }
     },
     "metadata": {}
    },
    {
     "output_type": "stream",
     "name": "stdout",
     "text": "5146\n"
    },
    {
     "output_type": "display_data",
     "data": {
      "text/plain": "IntProgress(value=147, max=1000)",
      "application/vnd.jupyter.widget-view+json": {
       "version_major": 2,
       "version_minor": 0,
       "model_id": "c6b311b802de4e4f8c69cdd95afff43b"
      }
     },
     "metadata": {}
    },
    {
     "output_type": "stream",
     "name": "stdout",
     "text": "5147\n"
    },
    {
     "output_type": "display_data",
     "data": {
      "text/plain": "IntProgress(value=148, max=1000)",
      "application/vnd.jupyter.widget-view+json": {
       "version_major": 2,
       "version_minor": 0,
       "model_id": "c6b311b802de4e4f8c69cdd95afff43b"
      }
     },
     "metadata": {}
    },
    {
     "output_type": "stream",
     "name": "stdout",
     "text": "5148\n"
    },
    {
     "output_type": "display_data",
     "data": {
      "text/plain": "IntProgress(value=149, max=1000)",
      "application/vnd.jupyter.widget-view+json": {
       "version_major": 2,
       "version_minor": 0,
       "model_id": "c6b311b802de4e4f8c69cdd95afff43b"
      }
     },
     "metadata": {}
    },
    {
     "output_type": "stream",
     "name": "stdout",
     "text": "5149\n"
    },
    {
     "output_type": "display_data",
     "data": {
      "text/plain": "IntProgress(value=150, max=1000)",
      "application/vnd.jupyter.widget-view+json": {
       "version_major": 2,
       "version_minor": 0,
       "model_id": "c6b311b802de4e4f8c69cdd95afff43b"
      }
     },
     "metadata": {}
    },
    {
     "output_type": "stream",
     "name": "stdout",
     "text": "5150\n"
    },
    {
     "output_type": "display_data",
     "data": {
      "text/plain": "IntProgress(value=151, max=1000)",
      "application/vnd.jupyter.widget-view+json": {
       "version_major": 2,
       "version_minor": 0,
       "model_id": "c6b311b802de4e4f8c69cdd95afff43b"
      }
     },
     "metadata": {}
    },
    {
     "output_type": "stream",
     "name": "stdout",
     "text": "5151\n"
    },
    {
     "output_type": "display_data",
     "data": {
      "text/plain": "IntProgress(value=152, max=1000)",
      "application/vnd.jupyter.widget-view+json": {
       "version_major": 2,
       "version_minor": 0,
       "model_id": "c6b311b802de4e4f8c69cdd95afff43b"
      }
     },
     "metadata": {}
    },
    {
     "output_type": "stream",
     "name": "stdout",
     "text": "5152\n"
    },
    {
     "output_type": "display_data",
     "data": {
      "text/plain": "IntProgress(value=153, max=1000)",
      "application/vnd.jupyter.widget-view+json": {
       "version_major": 2,
       "version_minor": 0,
       "model_id": "c6b311b802de4e4f8c69cdd95afff43b"
      }
     },
     "metadata": {}
    },
    {
     "output_type": "stream",
     "name": "stdout",
     "text": "5153\n"
    },
    {
     "output_type": "display_data",
     "data": {
      "text/plain": "IntProgress(value=154, max=1000)",
      "application/vnd.jupyter.widget-view+json": {
       "version_major": 2,
       "version_minor": 0,
       "model_id": "c6b311b802de4e4f8c69cdd95afff43b"
      }
     },
     "metadata": {}
    },
    {
     "output_type": "stream",
     "name": "stdout",
     "text": "5154\n"
    },
    {
     "output_type": "display_data",
     "data": {
      "text/plain": "IntProgress(value=155, max=1000)",
      "application/vnd.jupyter.widget-view+json": {
       "version_major": 2,
       "version_minor": 0,
       "model_id": "c6b311b802de4e4f8c69cdd95afff43b"
      }
     },
     "metadata": {}
    },
    {
     "output_type": "stream",
     "name": "stdout",
     "text": "5155\n"
    },
    {
     "output_type": "display_data",
     "data": {
      "text/plain": "IntProgress(value=156, max=1000)",
      "application/vnd.jupyter.widget-view+json": {
       "version_major": 2,
       "version_minor": 0,
       "model_id": "c6b311b802de4e4f8c69cdd95afff43b"
      }
     },
     "metadata": {}
    },
    {
     "output_type": "stream",
     "name": "stdout",
     "text": "5156\n"
    },
    {
     "output_type": "display_data",
     "data": {
      "text/plain": "IntProgress(value=157, max=1000)",
      "application/vnd.jupyter.widget-view+json": {
       "version_major": 2,
       "version_minor": 0,
       "model_id": "c6b311b802de4e4f8c69cdd95afff43b"
      }
     },
     "metadata": {}
    },
    {
     "output_type": "stream",
     "name": "stdout",
     "text": "5157\n"
    },
    {
     "output_type": "display_data",
     "data": {
      "text/plain": "IntProgress(value=158, max=1000)",
      "application/vnd.jupyter.widget-view+json": {
       "version_major": 2,
       "version_minor": 0,
       "model_id": "c6b311b802de4e4f8c69cdd95afff43b"
      }
     },
     "metadata": {}
    },
    {
     "output_type": "stream",
     "name": "stdout",
     "text": "5158\n"
    },
    {
     "output_type": "display_data",
     "data": {
      "text/plain": "IntProgress(value=159, max=1000)",
      "application/vnd.jupyter.widget-view+json": {
       "version_major": 2,
       "version_minor": 0,
       "model_id": "c6b311b802de4e4f8c69cdd95afff43b"
      }
     },
     "metadata": {}
    },
    {
     "output_type": "stream",
     "name": "stdout",
     "text": "5159\n"
    },
    {
     "output_type": "display_data",
     "data": {
      "text/plain": "IntProgress(value=160, max=1000)",
      "application/vnd.jupyter.widget-view+json": {
       "version_major": 2,
       "version_minor": 0,
       "model_id": "c6b311b802de4e4f8c69cdd95afff43b"
      }
     },
     "metadata": {}
    },
    {
     "output_type": "stream",
     "name": "stdout",
     "text": "5160\n"
    },
    {
     "output_type": "display_data",
     "data": {
      "text/plain": "IntProgress(value=161, max=1000)",
      "application/vnd.jupyter.widget-view+json": {
       "version_major": 2,
       "version_minor": 0,
       "model_id": "c6b311b802de4e4f8c69cdd95afff43b"
      }
     },
     "metadata": {}
    },
    {
     "output_type": "stream",
     "name": "stdout",
     "text": "5161\n"
    },
    {
     "output_type": "display_data",
     "data": {
      "text/plain": "IntProgress(value=162, max=1000)",
      "application/vnd.jupyter.widget-view+json": {
       "version_major": 2,
       "version_minor": 0,
       "model_id": "c6b311b802de4e4f8c69cdd95afff43b"
      }
     },
     "metadata": {}
    },
    {
     "output_type": "stream",
     "name": "stdout",
     "text": "5162\n"
    },
    {
     "output_type": "display_data",
     "data": {
      "text/plain": "IntProgress(value=163, max=1000)",
      "application/vnd.jupyter.widget-view+json": {
       "version_major": 2,
       "version_minor": 0,
       "model_id": "c6b311b802de4e4f8c69cdd95afff43b"
      }
     },
     "metadata": {}
    },
    {
     "output_type": "stream",
     "name": "stdout",
     "text": "5163\n"
    },
    {
     "output_type": "display_data",
     "data": {
      "text/plain": "IntProgress(value=164, max=1000)",
      "application/vnd.jupyter.widget-view+json": {
       "version_major": 2,
       "version_minor": 0,
       "model_id": "c6b311b802de4e4f8c69cdd95afff43b"
      }
     },
     "metadata": {}
    },
    {
     "output_type": "stream",
     "name": "stdout",
     "text": "5164\n"
    },
    {
     "output_type": "display_data",
     "data": {
      "text/plain": "IntProgress(value=165, max=1000)",
      "application/vnd.jupyter.widget-view+json": {
       "version_major": 2,
       "version_minor": 0,
       "model_id": "c6b311b802de4e4f8c69cdd95afff43b"
      }
     },
     "metadata": {}
    },
    {
     "output_type": "stream",
     "name": "stdout",
     "text": "5165\n"
    },
    {
     "output_type": "display_data",
     "data": {
      "text/plain": "IntProgress(value=166, max=1000)",
      "application/vnd.jupyter.widget-view+json": {
       "version_major": 2,
       "version_minor": 0,
       "model_id": "c6b311b802de4e4f8c69cdd95afff43b"
      }
     },
     "metadata": {}
    },
    {
     "output_type": "stream",
     "name": "stdout",
     "text": "5166\n"
    },
    {
     "output_type": "display_data",
     "data": {
      "text/plain": "IntProgress(value=167, max=1000)",
      "application/vnd.jupyter.widget-view+json": {
       "version_major": 2,
       "version_minor": 0,
       "model_id": "c6b311b802de4e4f8c69cdd95afff43b"
      }
     },
     "metadata": {}
    },
    {
     "output_type": "stream",
     "name": "stdout",
     "text": "5167\n"
    },
    {
     "output_type": "display_data",
     "data": {
      "text/plain": "IntProgress(value=168, max=1000)",
      "application/vnd.jupyter.widget-view+json": {
       "version_major": 2,
       "version_minor": 0,
       "model_id": "c6b311b802de4e4f8c69cdd95afff43b"
      }
     },
     "metadata": {}
    },
    {
     "output_type": "stream",
     "name": "stdout",
     "text": "5168\n"
    },
    {
     "output_type": "display_data",
     "data": {
      "text/plain": "IntProgress(value=169, max=1000)",
      "application/vnd.jupyter.widget-view+json": {
       "version_major": 2,
       "version_minor": 0,
       "model_id": "c6b311b802de4e4f8c69cdd95afff43b"
      }
     },
     "metadata": {}
    },
    {
     "output_type": "stream",
     "name": "stdout",
     "text": "5169\n"
    },
    {
     "output_type": "display_data",
     "data": {
      "text/plain": "IntProgress(value=170, max=1000)",
      "application/vnd.jupyter.widget-view+json": {
       "version_major": 2,
       "version_minor": 0,
       "model_id": "c6b311b802de4e4f8c69cdd95afff43b"
      }
     },
     "metadata": {}
    },
    {
     "output_type": "stream",
     "name": "stdout",
     "text": "5170\n"
    },
    {
     "output_type": "display_data",
     "data": {
      "text/plain": "IntProgress(value=171, max=1000)",
      "application/vnd.jupyter.widget-view+json": {
       "version_major": 2,
       "version_minor": 0,
       "model_id": "c6b311b802de4e4f8c69cdd95afff43b"
      }
     },
     "metadata": {}
    },
    {
     "output_type": "stream",
     "name": "stdout",
     "text": "5171\n"
    },
    {
     "output_type": "display_data",
     "data": {
      "text/plain": "IntProgress(value=172, max=1000)",
      "application/vnd.jupyter.widget-view+json": {
       "version_major": 2,
       "version_minor": 0,
       "model_id": "c6b311b802de4e4f8c69cdd95afff43b"
      }
     },
     "metadata": {}
    },
    {
     "output_type": "stream",
     "name": "stdout",
     "text": "5172\n"
    },
    {
     "output_type": "display_data",
     "data": {
      "text/plain": "IntProgress(value=173, max=1000)",
      "application/vnd.jupyter.widget-view+json": {
       "version_major": 2,
       "version_minor": 0,
       "model_id": "c6b311b802de4e4f8c69cdd95afff43b"
      }
     },
     "metadata": {}
    },
    {
     "output_type": "stream",
     "name": "stdout",
     "text": "5173\n"
    },
    {
     "output_type": "display_data",
     "data": {
      "text/plain": "IntProgress(value=174, max=1000)",
      "application/vnd.jupyter.widget-view+json": {
       "version_major": 2,
       "version_minor": 0,
       "model_id": "c6b311b802de4e4f8c69cdd95afff43b"
      }
     },
     "metadata": {}
    },
    {
     "output_type": "stream",
     "name": "stdout",
     "text": "5174\n"
    },
    {
     "output_type": "display_data",
     "data": {
      "text/plain": "IntProgress(value=175, max=1000)",
      "application/vnd.jupyter.widget-view+json": {
       "version_major": 2,
       "version_minor": 0,
       "model_id": "c6b311b802de4e4f8c69cdd95afff43b"
      }
     },
     "metadata": {}
    },
    {
     "output_type": "stream",
     "name": "stdout",
     "text": "5175\n"
    },
    {
     "output_type": "display_data",
     "data": {
      "text/plain": "IntProgress(value=176, max=1000)",
      "application/vnd.jupyter.widget-view+json": {
       "version_major": 2,
       "version_minor": 0,
       "model_id": "c6b311b802de4e4f8c69cdd95afff43b"
      }
     },
     "metadata": {}
    },
    {
     "output_type": "stream",
     "name": "stdout",
     "text": "5176\n"
    },
    {
     "output_type": "display_data",
     "data": {
      "text/plain": "IntProgress(value=177, max=1000)",
      "application/vnd.jupyter.widget-view+json": {
       "version_major": 2,
       "version_minor": 0,
       "model_id": "c6b311b802de4e4f8c69cdd95afff43b"
      }
     },
     "metadata": {}
    },
    {
     "output_type": "stream",
     "name": "stdout",
     "text": "5177\n"
    },
    {
     "output_type": "display_data",
     "data": {
      "text/plain": "IntProgress(value=178, max=1000)",
      "application/vnd.jupyter.widget-view+json": {
       "version_major": 2,
       "version_minor": 0,
       "model_id": "c6b311b802de4e4f8c69cdd95afff43b"
      }
     },
     "metadata": {}
    },
    {
     "output_type": "stream",
     "name": "stdout",
     "text": "5178\n"
    },
    {
     "output_type": "display_data",
     "data": {
      "text/plain": "IntProgress(value=179, max=1000)",
      "application/vnd.jupyter.widget-view+json": {
       "version_major": 2,
       "version_minor": 0,
       "model_id": "c6b311b802de4e4f8c69cdd95afff43b"
      }
     },
     "metadata": {}
    },
    {
     "output_type": "stream",
     "name": "stdout",
     "text": "5179\n"
    },
    {
     "output_type": "display_data",
     "data": {
      "text/plain": "IntProgress(value=180, max=1000)",
      "application/vnd.jupyter.widget-view+json": {
       "version_major": 2,
       "version_minor": 0,
       "model_id": "c6b311b802de4e4f8c69cdd95afff43b"
      }
     },
     "metadata": {}
    },
    {
     "output_type": "stream",
     "name": "stdout",
     "text": "5180\n"
    },
    {
     "output_type": "display_data",
     "data": {
      "text/plain": "IntProgress(value=181, max=1000)",
      "application/vnd.jupyter.widget-view+json": {
       "version_major": 2,
       "version_minor": 0,
       "model_id": "c6b311b802de4e4f8c69cdd95afff43b"
      }
     },
     "metadata": {}
    },
    {
     "output_type": "stream",
     "name": "stdout",
     "text": "5181\n"
    },
    {
     "output_type": "display_data",
     "data": {
      "text/plain": "IntProgress(value=182, max=1000)",
      "application/vnd.jupyter.widget-view+json": {
       "version_major": 2,
       "version_minor": 0,
       "model_id": "c6b311b802de4e4f8c69cdd95afff43b"
      }
     },
     "metadata": {}
    },
    {
     "output_type": "stream",
     "name": "stdout",
     "text": "5182\n"
    },
    {
     "output_type": "display_data",
     "data": {
      "text/plain": "IntProgress(value=183, max=1000)",
      "application/vnd.jupyter.widget-view+json": {
       "version_major": 2,
       "version_minor": 0,
       "model_id": "c6b311b802de4e4f8c69cdd95afff43b"
      }
     },
     "metadata": {}
    },
    {
     "output_type": "stream",
     "name": "stdout",
     "text": "5183\n"
    },
    {
     "output_type": "display_data",
     "data": {
      "text/plain": "IntProgress(value=184, max=1000)",
      "application/vnd.jupyter.widget-view+json": {
       "version_major": 2,
       "version_minor": 0,
       "model_id": "c6b311b802de4e4f8c69cdd95afff43b"
      }
     },
     "metadata": {}
    },
    {
     "output_type": "stream",
     "name": "stdout",
     "text": "5184\n"
    },
    {
     "output_type": "display_data",
     "data": {
      "text/plain": "IntProgress(value=185, max=1000)",
      "application/vnd.jupyter.widget-view+json": {
       "version_major": 2,
       "version_minor": 0,
       "model_id": "c6b311b802de4e4f8c69cdd95afff43b"
      }
     },
     "metadata": {}
    },
    {
     "output_type": "stream",
     "name": "stdout",
     "text": "5185\n"
    },
    {
     "output_type": "display_data",
     "data": {
      "text/plain": "IntProgress(value=186, max=1000)",
      "application/vnd.jupyter.widget-view+json": {
       "version_major": 2,
       "version_minor": 0,
       "model_id": "c6b311b802de4e4f8c69cdd95afff43b"
      }
     },
     "metadata": {}
    },
    {
     "output_type": "stream",
     "name": "stdout",
     "text": "5186\n"
    },
    {
     "output_type": "display_data",
     "data": {
      "text/plain": "IntProgress(value=187, max=1000)",
      "application/vnd.jupyter.widget-view+json": {
       "version_major": 2,
       "version_minor": 0,
       "model_id": "c6b311b802de4e4f8c69cdd95afff43b"
      }
     },
     "metadata": {}
    },
    {
     "output_type": "stream",
     "name": "stdout",
     "text": "5187\n"
    },
    {
     "output_type": "display_data",
     "data": {
      "text/plain": "IntProgress(value=188, max=1000)",
      "application/vnd.jupyter.widget-view+json": {
       "version_major": 2,
       "version_minor": 0,
       "model_id": "c6b311b802de4e4f8c69cdd95afff43b"
      }
     },
     "metadata": {}
    },
    {
     "output_type": "stream",
     "name": "stdout",
     "text": "5188\n"
    },
    {
     "output_type": "display_data",
     "data": {
      "text/plain": "IntProgress(value=189, max=1000)",
      "application/vnd.jupyter.widget-view+json": {
       "version_major": 2,
       "version_minor": 0,
       "model_id": "c6b311b802de4e4f8c69cdd95afff43b"
      }
     },
     "metadata": {}
    },
    {
     "output_type": "stream",
     "name": "stdout",
     "text": "5189\n"
    },
    {
     "output_type": "display_data",
     "data": {
      "text/plain": "IntProgress(value=190, max=1000)",
      "application/vnd.jupyter.widget-view+json": {
       "version_major": 2,
       "version_minor": 0,
       "model_id": "c6b311b802de4e4f8c69cdd95afff43b"
      }
     },
     "metadata": {}
    },
    {
     "output_type": "stream",
     "name": "stdout",
     "text": "5190\n"
    },
    {
     "output_type": "display_data",
     "data": {
      "text/plain": "IntProgress(value=191, max=1000)",
      "application/vnd.jupyter.widget-view+json": {
       "version_major": 2,
       "version_minor": 0,
       "model_id": "c6b311b802de4e4f8c69cdd95afff43b"
      }
     },
     "metadata": {}
    },
    {
     "output_type": "stream",
     "name": "stdout",
     "text": "5191\n"
    },
    {
     "output_type": "display_data",
     "data": {
      "text/plain": "IntProgress(value=192, max=1000)",
      "application/vnd.jupyter.widget-view+json": {
       "version_major": 2,
       "version_minor": 0,
       "model_id": "c6b311b802de4e4f8c69cdd95afff43b"
      }
     },
     "metadata": {}
    },
    {
     "output_type": "stream",
     "name": "stdout",
     "text": "5192\n"
    },
    {
     "output_type": "display_data",
     "data": {
      "text/plain": "IntProgress(value=193, max=1000)",
      "application/vnd.jupyter.widget-view+json": {
       "version_major": 2,
       "version_minor": 0,
       "model_id": "c6b311b802de4e4f8c69cdd95afff43b"
      }
     },
     "metadata": {}
    },
    {
     "output_type": "stream",
     "name": "stdout",
     "text": "5193\n"
    },
    {
     "output_type": "display_data",
     "data": {
      "text/plain": "IntProgress(value=194, max=1000)",
      "application/vnd.jupyter.widget-view+json": {
       "version_major": 2,
       "version_minor": 0,
       "model_id": "c6b311b802de4e4f8c69cdd95afff43b"
      }
     },
     "metadata": {}
    },
    {
     "output_type": "stream",
     "name": "stdout",
     "text": "5194\n"
    },
    {
     "output_type": "display_data",
     "data": {
      "text/plain": "IntProgress(value=195, max=1000)",
      "application/vnd.jupyter.widget-view+json": {
       "version_major": 2,
       "version_minor": 0,
       "model_id": "c6b311b802de4e4f8c69cdd95afff43b"
      }
     },
     "metadata": {}
    },
    {
     "output_type": "stream",
     "name": "stdout",
     "text": "5195\n"
    },
    {
     "output_type": "display_data",
     "data": {
      "text/plain": "IntProgress(value=196, max=1000)",
      "application/vnd.jupyter.widget-view+json": {
       "version_major": 2,
       "version_minor": 0,
       "model_id": "c6b311b802de4e4f8c69cdd95afff43b"
      }
     },
     "metadata": {}
    },
    {
     "output_type": "stream",
     "name": "stdout",
     "text": "5196\n"
    },
    {
     "output_type": "display_data",
     "data": {
      "text/plain": "IntProgress(value=197, max=1000)",
      "application/vnd.jupyter.widget-view+json": {
       "version_major": 2,
       "version_minor": 0,
       "model_id": "c6b311b802de4e4f8c69cdd95afff43b"
      }
     },
     "metadata": {}
    },
    {
     "output_type": "stream",
     "name": "stdout",
     "text": "5197\n"
    }
   ],
   "source": [
    "progress = IntProgress(min=0, max=(end_block - start_block))\n",
    "transactions = []\n",
    "for idx in range(start_block, end_block):\n",
    "    display(progress)\n",
    "    b = w3.eth.getBlock(idx, full_transactions=True)\n",
    "    for tx in b.transactions:\n",
    "        transactions.append([b.timestamp, tx['to'], tx['from']])\n",
    "\n",
    "    progress.value += 1"
   ]
  },
  {
   "cell_type": "code",
   "execution_count": null,
   "metadata": {},
   "outputs": [],
   "source": [
    "df = pd.DataFrame(transactions, columns = ['Timestamp', 'From', 'To']) \n",
    "df.to_hdf('transactions.h5', key='raw_transactions', mode='a')\n",
    "df"
   ]
  },
  {
   "cell_type": "code",
   "execution_count": null,
   "metadata": {},
   "outputs": [],
   "source": [
    "tnet = TemporalNetwork(from_df=df)\n",
    "tnet.network"
   ]
  }
 ],
 "metadata": {
  "language_info": {
   "codemirror_mode": {
    "name": "ipython",
    "version": 3
   },
   "file_extension": ".py",
   "mimetype": "text/x-python",
   "name": "python",
   "nbconvert_exporter": "python",
   "pygments_lexer": "ipython3",
   "version": "3.8.2-final"
  },
  "orig_nbformat": 2,
  "kernelspec": {
   "name": "python38264bitethereumnetworkitoqkzlvenvb773492a048a40528495993fb30f519e",
   "display_name": "Python 3.8.2 64-bit ('ethereum-network-iTOQKzl-': venv)"
  }
 },
 "nbformat": 4,
 "nbformat_minor": 2
}