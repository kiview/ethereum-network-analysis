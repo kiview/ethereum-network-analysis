{
 "cells": [
  {
   "cell_type": "code",
   "execution_count": 1,
   "metadata": {},
   "outputs": [],
   "source": [
    "import networkx as nx\n",
    "\n",
    "import json\n",
    "import numpy as np\n",
    "import matplotlib.pyplot as plt\n",
    "\n",
    "from itertools import islice\n"
   ]
  },
  {
   "cell_type": "code",
   "execution_count": 2,
   "metadata": {},
   "outputs": [],
   "source": [
    "INPUT_FILENAME = 'transactions_from_to.json'\n",
    "FRACTION_WEIGHTS = 0.04\n",
    "\n",
    "with open(INPUT_FILENAME, 'r') as fin:\n",
    "    data = json.load(fin)"
   ]
  },
  {
   "cell_type": "code",
   "execution_count": null,
   "metadata": {},
   "outputs": [],
   "source": [
    "# create graph \n",
    "g = nx.MultiDiGraph()\n",
    "\n",
    "edge_weight = {}\n",
    "for transaction in data:\n",
    "    fromAddress = transaction['fromAddress']\n",
    "    toAddress = transaction['toAddress']\n",
    "\n",
    "    if fromAddress not in edge_weight:\n",
    "        edge_weight[fromAddress] = {}\n",
    "    if toAddress not in edge_weight[fromAddress]:\n",
    "        edge_weight[fromAddress][toAddress] = 0\n",
    "    edge_weight[fromAddress][toAddress] += 1\n",
    "\n",
    "for fromAddress in edge_weight:\n",
    "    for toAddress in edge_weight[fromAddress]:\n",
    "        g.add_edge(fromAddress, toAddress, weight=edge_weight[fromAddress][toAddress])"
   ]
  },
  {
   "cell_type": "code",
   "execution_count": 9,
   "metadata": {},
   "outputs": [
    {
     "name": "stdout",
     "output_type": "stream",
     "text": [
      "no nodes: 561\n",
      "no edges: 840\n"
     ]
    }
   ],
   "source": [
    "print('no nodes: ' + str(len(nx.nodes(g))))\n",
    "edges = nx.edges(g)\n",
    "print('no edges: ' + str(len(edges)))"
   ]
  },
  {
   "cell_type": "code",
   "execution_count": 5,
   "metadata": {},
   "outputs": [
    {
     "name": "stdout",
     "output_type": "stream",
     "text": [
      "top 4.0% of weights: [1001704, 965160, 918570, 902698, 658617, 571802, 547229, 489568, 413870, 365328, 346657, 339716, 274013, 245905, 202668, 197015, 189582, 182258, 176516, 155461, 70964, 69598, 43734, 43061, 27793, 27472, 14961, 14550, 8276, 7177, 2330, 1767, 1522]\n"
     ]
    }
   ],
   "source": [
    "# compute degrees\n",
    "degrees = {}\n",
    "for edge in edges:\n",
    "    if edge[0] not in degrees:\n",
    "        degrees[edge[0]] = 0\n",
    "    degrees[edge[0]] += edge_weight[edge[0]][edge[1]]\n",
    "\n",
    "    if edge[1] not in degrees:\n",
    "        degrees[edge[1]] = 0\n",
    "    degrees[edge[1]] += edge_weight[edge[0]][edge[1]]\n",
    "\n",
    "# get top weights\n",
    "weights = []\n",
    "for edge in edges:\n",
    "    weights.append(edge_weight[edge[0]][edge[1]])\n",
    "top_weights = sorted(weights, reverse=True)[:int(len(weights) * FRACTION_WEIGHTS)]\n",
    "print(\"top \" + str(FRACTION_WEIGHTS * 100) + \"% of weights: \" + str(top_weights) )"
   ]
  },
  {
   "cell_type": "code",
   "execution_count": 6,
   "metadata": {},
   "outputs": [
    {
     "data": {
      "image/png": "[encoded data removed]",
      "text/plain": [
       "<Figure size 432x288 with 1 Axes>"
      ]
     },
     "metadata": {
      "needs_background": "light"
     },
     "output_type": "display_data"
    }
   ],
   "source": [
    "fig1, ax1 = plt.subplots()\n",
    "ax1.set_title('Degrees')\n",
    "ax1.boxplot(degrees.values())\n",
    "plt.show()"
   ]
  },
  {
   "cell_type": "code",
   "execution_count": 7,
   "metadata": {},
   "outputs": [
    {
     "ename": "NameError",
     "evalue": "name 'g_nice' is not defined",
     "output_type": "error",
     "traceback": [
      "\u001b[0;31m---------------------------------------------------------------------------\u001b[0m",
      "\u001b[0;31mNameError\u001b[0m                                 Traceback (most recent call last)",
      "\u001b[0;32m<ipython-input-7-299e3b5755b9>\u001b[0m in \u001b[0;36m<module>\u001b[0;34m\u001b[0m\n\u001b[1;32m     13\u001b[0m         \u001b[0mtoNode\u001b[0m \u001b[0;34m=\u001b[0m \u001b[0msymbol\u001b[0m\u001b[0;34m\u001b[0m\u001b[0;34m\u001b[0m\u001b[0m\n\u001b[1;32m     14\u001b[0m         \u001b[0msymbol\u001b[0m \u001b[0;34m+=\u001b[0m \u001b[0;36m1\u001b[0m\u001b[0;34m\u001b[0m\u001b[0;34m\u001b[0m\u001b[0m\n\u001b[0;32m---> 15\u001b[0;31m     \u001b[0mg_nice\u001b[0m\u001b[0;34m.\u001b[0m\u001b[0madd_edge\u001b[0m\u001b[0;34m(\u001b[0m\u001b[0mfromNode\u001b[0m\u001b[0;34m,\u001b[0m \u001b[0mtoNode\u001b[0m\u001b[0;34m,\u001b[0m \u001b[0mweight\u001b[0m\u001b[0;34m=\u001b[0m\u001b[0medge_weight\u001b[0m\u001b[0;34m[\u001b[0m\u001b[0medge\u001b[0m\u001b[0;34m[\u001b[0m\u001b[0;36m0\u001b[0m\u001b[0;34m]\u001b[0m\u001b[0;34m]\u001b[0m\u001b[0;34m[\u001b[0m\u001b[0medge\u001b[0m\u001b[0;34m[\u001b[0m\u001b[0;36m1\u001b[0m\u001b[0;34m]\u001b[0m\u001b[0;34m]\u001b[0m\u001b[0;34m)\u001b[0m\u001b[0;34m\u001b[0m\u001b[0;34m\u001b[0m\u001b[0m\n\u001b[0m\u001b[1;32m     16\u001b[0m \u001b[0;34m\u001b[0m\u001b[0m\n\u001b[1;32m     17\u001b[0m \u001b[0;31m# set edge weights\u001b[0m\u001b[0;34m\u001b[0m\u001b[0;34m\u001b[0m\u001b[0;34m\u001b[0m\u001b[0m\n",
      "\u001b[0;31mNameError\u001b[0m: name 'g_nice' is not defined"
     ]
    }
   ],
   "source": [
    "symbol = 0\n",
    "for edge in edges:\n",
    "    if edge_weight[edge[0]][edge[1]] < top_weights[len(top_weights) - 1]:\n",
    "        continue\n",
    "    fromNode = 'NONE'\n",
    "    if edge[0] is not None:\n",
    "        #fromNode = edge[0][:5]# + \"..\" + entry['fromAddress'][-3:]\n",
    "        fromNode = symbol\n",
    "        symbol += 1\n",
    "    toNode = 'NONE'\n",
    "    if edge[1] is not None:\n",
    "        #toNode = edge[1][:5]# + \"..\" + entry['toAddress'][-3:]\n",
    "        toNode = symbol\n",
    "        symbol += 1\n",
    "    g_nice.add_edge(fromNode, toNode, weight=edge_weight[edge[0]][edge[1]])\n",
    "\n",
    "# set edge weights \n",
    "edge_labels = {}\n",
    "for edge in g_nice.edges():\n",
    "    weight = g_nice.get_edge_data(edge[0], edge[1])\n",
    "    if 0 in weight:\n",
    "        weight = weight[0]['weight']\n",
    "    edge_labels[(edge[0], edge[1])] = weight"
   ]
  },
  {
   "cell_type": "code",
   "execution_count": null,
   "metadata": {},
   "outputs": [],
   "source": [
    "# draw graph\n",
    "pos = nx.spring_layout(g_nice, k=1/np.sqrt(len(g_nice.nodes())), iterations=20, weight=5)\n",
    "nx.draw_networkx_edge_labels(g_nice, pos, edge_labels=edge_labels, label_pos=0.3, font_size=7)\n",
    "nx.draw(g_nice, pos, node_color='lawngreen', with_labels = True, arrows = True)\n",
    "plt.show()"
   ]
  }
 ],
 "metadata": {
  "kernelspec": {
   "display_name": "Python 3",
   "language": "python",
   "name": "python3"
  },
  "language_info": {
   "codemirror_mode": {
    "name": "ipython",
    "version": 3
   },
   "file_extension": ".py",
   "mimetype": "text/x-python",
   "name": "python",
   "nbconvert_exporter": "python",
   "pygments_lexer": "ipython3",
   "version": "3.8.2"
  }
 },
 "nbformat": 4,
 "nbformat_minor": 4
}
