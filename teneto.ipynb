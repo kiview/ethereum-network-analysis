{
 "cells": [
  {
   "cell_type": "code",
   "execution_count": 31,
   "metadata": {},
   "outputs": [],
   "source": [
    "from teneto import TemporalNetwork\n",
    "import json\n",
    "import pandas as pd\n",
    "import numpy as np"
   ]
  },
  {
   "cell_type": "code",
   "execution_count": 3,
   "metadata": {},
   "outputs": [
    {
     "output_type": "execute_result",
     "data": {
      "text/plain": "                  timestamp                                 fromAddress  \\\n0       2019-01-10 08:04:45  0xab59a1ea1ac9af9f77518b9b4ad80942ade35088   \n1       2019-01-10 08:07:05  0xab59a1ea1ac9af9f77518b9b4ad80942ade35088   \n2       2019-01-10 08:08:00  0xab59a1ea1ac9af9f77518b9b4ad80942ade35088   \n3       2019-01-10 09:14:35  0xab59a1ea1ac9af9f77518b9b4ad80942ade35088   \n4       2019-01-10 09:15:45  0xab59a1ea1ac9af9f77518b9b4ad80942ade35088   \n...                     ...                                         ...   \n9494480 2020-06-08 12:53:10  0xab59a1ea1ac9af9f77518b9b4ad80942ade35088   \n9494481 2020-06-08 13:08:20  0xab59a1ea1ac9af9f77518b9b4ad80942ade35088   \n9494482 2020-06-08 13:23:15  0xab59a1ea1ac9af9f77518b9b4ad80942ade35088   \n9494483 2020-06-08 13:38:15  0xab59a1ea1ac9af9f77518b9b4ad80942ade35088   \n9494484 2020-06-08 13:53:15  0xab59a1ea1ac9af9f77518b9b4ad80942ade35088   \n\n        fromAddressLabel                                   toAddress  \\\n0        USERORVALIDATOR                                        None   \n1        USERORVALIDATOR                                        None   \n2        USERORVALIDATOR  0x9850711951a84ef8a2a31a7868d0dca34b0661ca   \n3        USERORVALIDATOR  0x9849379b89ab24c18c8871d56d1ad41e00d9eaae   \n4        USERORVALIDATOR  0x9849379b89ab24c18c8871d56d1ad41e00d9eaae   \n...                  ...                                         ...   \n9494480  USERORVALIDATOR  0xe5a9654c7e190701016ebf18206020bf16d8beab   \n9494481  USERORVALIDATOR  0xe5a9654c7e190701016ebf18206020bf16d8beab   \n9494482  USERORVALIDATOR  0xe5a9654c7e190701016ebf18206020bf16d8beab   \n9494483  USERORVALIDATOR  0xe5a9654c7e190701016ebf18206020bf16d8beab   \n9494484  USERORVALIDATOR  0xe5a9654c7e190701016ebf18206020bf16d8beab   \n\n          toAddressLabel  \n0                   NONE  \n1                   NONE  \n2          SMARTCONTRACT  \n3        USERORVALIDATOR  \n4        USERORVALIDATOR  \n...                  ...  \n9494480    SMARTCONTRACT  \n9494481    SMARTCONTRACT  \n9494482    SMARTCONTRACT  \n9494483    SMARTCONTRACT  \n9494484    SMARTCONTRACT  \n\n[9494485 rows x 5 columns]",
      "text/html": "<div>\n<style scoped>\n    .dataframe tbody tr th:only-of-type {\n        vertical-align: middle;\n    }\n\n    .dataframe tbody tr th {\n        vertical-align: top;\n    }\n\n    .dataframe thead th {\n        text-align: right;\n    }\n</style>\n<table border=\"1\" class=\"dataframe\">\n  <thead>\n    <tr style=\"text-align: right;\">\n      <th></th>\n      <th>timestamp</th>\n      <th>fromAddress</th>\n      <th>fromAddressLabel</th>\n      <th>toAddress</th>\n      <th>toAddressLabel</th>\n    </tr>\n  </thead>\n  <tbody>\n    <tr>\n      <th>0</th>\n      <td>2019-01-10 08:04:45</td>\n      <td>0xab59a1ea1ac9af9f77518b9b4ad80942ade35088</td>\n      <td>USERORVALIDATOR</td>\n      <td>None</td>\n      <td>NONE</td>\n    </tr>\n    <tr>\n      <th>1</th>\n      <td>2019-01-10 08:07:05</td>\n      <td>0xab59a1ea1ac9af9f77518b9b4ad80942ade35088</td>\n      <td>USERORVALIDATOR</td>\n      <td>None</td>\n      <td>NONE</td>\n    </tr>\n    <tr>\n      <th>2</th>\n      <td>2019-01-10 08:08:00</td>\n      <td>0xab59a1ea1ac9af9f77518b9b4ad80942ade35088</td>\n      <td>USERORVALIDATOR</td>\n      <td>0x9850711951a84ef8a2a31a7868d0dca34b0661ca</td>\n      <td>SMARTCONTRACT</td>\n    </tr>\n    <tr>\n      <th>3</th>\n      <td>2019-01-10 09:14:35</td>\n      <td>0xab59a1ea1ac9af9f77518b9b4ad80942ade35088</td>\n      <td>USERORVALIDATOR</td>\n      <td>0x9849379b89ab24c18c8871d56d1ad41e00d9eaae</td>\n      <td>USERORVALIDATOR</td>\n    </tr>\n    <tr>\n      <th>4</th>\n      <td>2019-01-10 09:15:45</td>\n      <td>0xab59a1ea1ac9af9f77518b9b4ad80942ade35088</td>\n      <td>USERORVALIDATOR</td>\n      <td>0x9849379b89ab24c18c8871d56d1ad41e00d9eaae</td>\n      <td>USERORVALIDATOR</td>\n    </tr>\n    <tr>\n      <th>...</th>\n      <td>...</td>\n      <td>...</td>\n      <td>...</td>\n      <td>...</td>\n      <td>...</td>\n    </tr>\n    <tr>\n      <th>9494480</th>\n      <td>2020-06-08 12:53:10</td>\n      <td>0xab59a1ea1ac9af9f77518b9b4ad80942ade35088</td>\n      <td>USERORVALIDATOR</td>\n      <td>0xe5a9654c7e190701016ebf18206020bf16d8beab</td>\n      <td>SMARTCONTRACT</td>\n    </tr>\n    <tr>\n      <th>9494481</th>\n      <td>2020-06-08 13:08:20</td>\n      <td>0xab59a1ea1ac9af9f77518b9b4ad80942ade35088</td>\n      <td>USERORVALIDATOR</td>\n      <td>0xe5a9654c7e190701016ebf18206020bf16d8beab</td>\n      <td>SMARTCONTRACT</td>\n    </tr>\n    <tr>\n      <th>9494482</th>\n      <td>2020-06-08 13:23:15</td>\n      <td>0xab59a1ea1ac9af9f77518b9b4ad80942ade35088</td>\n      <td>USERORVALIDATOR</td>\n      <td>0xe5a9654c7e190701016ebf18206020bf16d8beab</td>\n      <td>SMARTCONTRACT</td>\n    </tr>\n    <tr>\n      <th>9494483</th>\n      <td>2020-06-08 13:38:15</td>\n      <td>0xab59a1ea1ac9af9f77518b9b4ad80942ade35088</td>\n      <td>USERORVALIDATOR</td>\n      <td>0xe5a9654c7e190701016ebf18206020bf16d8beab</td>\n      <td>SMARTCONTRACT</td>\n    </tr>\n    <tr>\n      <th>9494484</th>\n      <td>2020-06-08 13:53:15</td>\n      <td>0xab59a1ea1ac9af9f77518b9b4ad80942ade35088</td>\n      <td>USERORVALIDATOR</td>\n      <td>0xe5a9654c7e190701016ebf18206020bf16d8beab</td>\n      <td>SMARTCONTRACT</td>\n    </tr>\n  </tbody>\n</table>\n<p>9494485 rows × 5 columns</p>\n</div>"
     },
     "metadata": {},
     "execution_count": 3
    }
   ],
   "source": [
    "INPUT_FILENAME = 'transactions_from_to.json'\n",
    "df = pd.read_json(INPUT_FILENAME)\n",
    "df\n",
    "#with open(INPUT_FILENAME, 'r') as fin:\n",
    " #   data = json.load(fin)"
   ]
  },
  {
   "cell_type": "code",
   "execution_count": 7,
   "metadata": {},
   "outputs": [
    {
     "output_type": "execute_result",
     "data": {
      "text/plain": "                          t                                           i  \\\n0       2019-01-10 08:04:45  0xab59a1ea1ac9af9f77518b9b4ad80942ade35088   \n1       2019-01-10 08:07:05  0xab59a1ea1ac9af9f77518b9b4ad80942ade35088   \n2       2019-01-10 08:08:00  0xab59a1ea1ac9af9f77518b9b4ad80942ade35088   \n3       2019-01-10 09:14:35  0xab59a1ea1ac9af9f77518b9b4ad80942ade35088   \n4       2019-01-10 09:15:45  0xab59a1ea1ac9af9f77518b9b4ad80942ade35088   \n...                     ...                                         ...   \n9494480 2020-06-08 12:53:10  0xab59a1ea1ac9af9f77518b9b4ad80942ade35088   \n9494481 2020-06-08 13:08:20  0xab59a1ea1ac9af9f77518b9b4ad80942ade35088   \n9494482 2020-06-08 13:23:15  0xab59a1ea1ac9af9f77518b9b4ad80942ade35088   \n9494483 2020-06-08 13:38:15  0xab59a1ea1ac9af9f77518b9b4ad80942ade35088   \n9494484 2020-06-08 13:53:15  0xab59a1ea1ac9af9f77518b9b4ad80942ade35088   \n\n        fromAddressLabel                                           j  \\\n0        USERORVALIDATOR                                        None   \n1        USERORVALIDATOR                                        None   \n2        USERORVALIDATOR  0x9850711951a84ef8a2a31a7868d0dca34b0661ca   \n3        USERORVALIDATOR  0x9849379b89ab24c18c8871d56d1ad41e00d9eaae   \n4        USERORVALIDATOR  0x9849379b89ab24c18c8871d56d1ad41e00d9eaae   \n...                  ...                                         ...   \n9494480  USERORVALIDATOR  0xe5a9654c7e190701016ebf18206020bf16d8beab   \n9494481  USERORVALIDATOR  0xe5a9654c7e190701016ebf18206020bf16d8beab   \n9494482  USERORVALIDATOR  0xe5a9654c7e190701016ebf18206020bf16d8beab   \n9494483  USERORVALIDATOR  0xe5a9654c7e190701016ebf18206020bf16d8beab   \n9494484  USERORVALIDATOR  0xe5a9654c7e190701016ebf18206020bf16d8beab   \n\n          toAddressLabel  \n0                   NONE  \n1                   NONE  \n2          SMARTCONTRACT  \n3        USERORVALIDATOR  \n4        USERORVALIDATOR  \n...                  ...  \n9494480    SMARTCONTRACT  \n9494481    SMARTCONTRACT  \n9494482    SMARTCONTRACT  \n9494483    SMARTCONTRACT  \n9494484    SMARTCONTRACT  \n\n[9494485 rows x 5 columns]",
      "text/html": "<div>\n<style scoped>\n    .dataframe tbody tr th:only-of-type {\n        vertical-align: middle;\n    }\n\n    .dataframe tbody tr th {\n        vertical-align: top;\n    }\n\n    .dataframe thead th {\n        text-align: right;\n    }\n</style>\n<table border=\"1\" class=\"dataframe\">\n  <thead>\n    <tr style=\"text-align: right;\">\n      <th></th>\n      <th>t</th>\n      <th>i</th>\n      <th>fromAddressLabel</th>\n      <th>j</th>\n      <th>toAddressLabel</th>\n    </tr>\n  </thead>\n  <tbody>\n    <tr>\n      <th>0</th>\n      <td>2019-01-10 08:04:45</td>\n      <td>0xab59a1ea1ac9af9f77518b9b4ad80942ade35088</td>\n      <td>USERORVALIDATOR</td>\n      <td>None</td>\n      <td>NONE</td>\n    </tr>\n    <tr>\n      <th>1</th>\n      <td>2019-01-10 08:07:05</td>\n      <td>0xab59a1ea1ac9af9f77518b9b4ad80942ade35088</td>\n      <td>USERORVALIDATOR</td>\n      <td>None</td>\n      <td>NONE</td>\n    </tr>\n    <tr>\n      <th>2</th>\n      <td>2019-01-10 08:08:00</td>\n      <td>0xab59a1ea1ac9af9f77518b9b4ad80942ade35088</td>\n      <td>USERORVALIDATOR</td>\n      <td>0x9850711951a84ef8a2a31a7868d0dca34b0661ca</td>\n      <td>SMARTCONTRACT</td>\n    </tr>\n    <tr>\n      <th>3</th>\n      <td>2019-01-10 09:14:35</td>\n      <td>0xab59a1ea1ac9af9f77518b9b4ad80942ade35088</td>\n      <td>USERORVALIDATOR</td>\n      <td>0x9849379b89ab24c18c8871d56d1ad41e00d9eaae</td>\n      <td>USERORVALIDATOR</td>\n    </tr>\n    <tr>\n      <th>4</th>\n      <td>2019-01-10 09:15:45</td>\n      <td>0xab59a1ea1ac9af9f77518b9b4ad80942ade35088</td>\n      <td>USERORVALIDATOR</td>\n      <td>0x9849379b89ab24c18c8871d56d1ad41e00d9eaae</td>\n      <td>USERORVALIDATOR</td>\n    </tr>\n    <tr>\n      <th>...</th>\n      <td>...</td>\n      <td>...</td>\n      <td>...</td>\n      <td>...</td>\n      <td>...</td>\n    </tr>\n    <tr>\n      <th>9494480</th>\n      <td>2020-06-08 12:53:10</td>\n      <td>0xab59a1ea1ac9af9f77518b9b4ad80942ade35088</td>\n      <td>USERORVALIDATOR</td>\n      <td>0xe5a9654c7e190701016ebf18206020bf16d8beab</td>\n      <td>SMARTCONTRACT</td>\n    </tr>\n    <tr>\n      <th>9494481</th>\n      <td>2020-06-08 13:08:20</td>\n      <td>0xab59a1ea1ac9af9f77518b9b4ad80942ade35088</td>\n      <td>USERORVALIDATOR</td>\n      <td>0xe5a9654c7e190701016ebf18206020bf16d8beab</td>\n      <td>SMARTCONTRACT</td>\n    </tr>\n    <tr>\n      <th>9494482</th>\n      <td>2020-06-08 13:23:15</td>\n      <td>0xab59a1ea1ac9af9f77518b9b4ad80942ade35088</td>\n      <td>USERORVALIDATOR</td>\n      <td>0xe5a9654c7e190701016ebf18206020bf16d8beab</td>\n      <td>SMARTCONTRACT</td>\n    </tr>\n    <tr>\n      <th>9494483</th>\n      <td>2020-06-08 13:38:15</td>\n      <td>0xab59a1ea1ac9af9f77518b9b4ad80942ade35088</td>\n      <td>USERORVALIDATOR</td>\n      <td>0xe5a9654c7e190701016ebf18206020bf16d8beab</td>\n      <td>SMARTCONTRACT</td>\n    </tr>\n    <tr>\n      <th>9494484</th>\n      <td>2020-06-08 13:53:15</td>\n      <td>0xab59a1ea1ac9af9f77518b9b4ad80942ade35088</td>\n      <td>USERORVALIDATOR</td>\n      <td>0xe5a9654c7e190701016ebf18206020bf16d8beab</td>\n      <td>SMARTCONTRACT</td>\n    </tr>\n  </tbody>\n</table>\n<p>9494485 rows × 5 columns</p>\n</div>"
     },
     "metadata": {},
     "execution_count": 7
    }
   ],
   "source": [
    "df = df.rename(columns={\"fromAddress\": \"i\", \"toAddress\": \"j\", \"timestamp\": \"t\"})\n",
    "df"
   ]
  },
  {
   "cell_type": "code",
   "execution_count": 33,
   "metadata": {},
   "outputs": [],
   "source": [
    "df.t = pd.to_datetime(df['t']).astype(np.int64)"
   ]
  },
  {
   "cell_type": "code",
   "execution_count": 36,
   "metadata": {},
   "outputs": [
    {
     "output_type": "execute_result",
     "data": {
      "text/plain": "                           t                                           i  \\\n2        1547107680000000000  0xab59a1ea1ac9af9f77518b9b4ad80942ade35088   \n3        1547111675000000000  0xab59a1ea1ac9af9f77518b9b4ad80942ade35088   \n4        1547111745000000000  0xab59a1ea1ac9af9f77518b9b4ad80942ade35088   \n6        1547111870000000000  0xab59a1ea1ac9af9f77518b9b4ad80942ade35088   \n9        1547111885000000000  0xab59a1ea1ac9af9f77518b9b4ad80942ade35088   \n...                      ...                                         ...   \n9494480  1591620790000000000  0xab59a1ea1ac9af9f77518b9b4ad80942ade35088   \n9494481  1591621700000000000  0xab59a1ea1ac9af9f77518b9b4ad80942ade35088   \n9494482  1591622595000000000  0xab59a1ea1ac9af9f77518b9b4ad80942ade35088   \n9494483  1591623495000000000  0xab59a1ea1ac9af9f77518b9b4ad80942ade35088   \n9494484  1591624395000000000  0xab59a1ea1ac9af9f77518b9b4ad80942ade35088   \n\n        fromAddressLabel                                           j  \\\n2        USERORVALIDATOR  0x9850711951a84ef8a2a31a7868d0dca34b0661ca   \n3        USERORVALIDATOR  0x9849379b89ab24c18c8871d56d1ad41e00d9eaae   \n4        USERORVALIDATOR  0x9849379b89ab24c18c8871d56d1ad41e00d9eaae   \n6        USERORVALIDATOR  0x03274b235c4a9207db1c852ea145fbe4d05e0e89   \n9        USERORVALIDATOR  0x03274b235c4a9207db1c852ea145fbe4d05e0e89   \n...                  ...                                         ...   \n9494480  USERORVALIDATOR  0xe5a9654c7e190701016ebf18206020bf16d8beab   \n9494481  USERORVALIDATOR  0xe5a9654c7e190701016ebf18206020bf16d8beab   \n9494482  USERORVALIDATOR  0xe5a9654c7e190701016ebf18206020bf16d8beab   \n9494483  USERORVALIDATOR  0xe5a9654c7e190701016ebf18206020bf16d8beab   \n9494484  USERORVALIDATOR  0xe5a9654c7e190701016ebf18206020bf16d8beab   \n\n          toAddressLabel  \n2          SMARTCONTRACT  \n3        USERORVALIDATOR  \n4        USERORVALIDATOR  \n6          SMARTCONTRACT  \n9          SMARTCONTRACT  \n...                  ...  \n9494480    SMARTCONTRACT  \n9494481    SMARTCONTRACT  \n9494482    SMARTCONTRACT  \n9494483    SMARTCONTRACT  \n9494484    SMARTCONTRACT  \n\n[9493931 rows x 5 columns]",
      "text/html": "<div>\n<style scoped>\n    .dataframe tbody tr th:only-of-type {\n        vertical-align: middle;\n    }\n\n    .dataframe tbody tr th {\n        vertical-align: top;\n    }\n\n    .dataframe thead th {\n        text-align: right;\n    }\n</style>\n<table border=\"1\" class=\"dataframe\">\n  <thead>\n    <tr style=\"text-align: right;\">\n      <th></th>\n      <th>t</th>\n      <th>i</th>\n      <th>fromAddressLabel</th>\n      <th>j</th>\n      <th>toAddressLabel</th>\n    </tr>\n  </thead>\n  <tbody>\n    <tr>\n      <th>2</th>\n      <td>1547107680000000000</td>\n      <td>0xab59a1ea1ac9af9f77518b9b4ad80942ade35088</td>\n      <td>USERORVALIDATOR</td>\n      <td>0x9850711951a84ef8a2a31a7868d0dca34b0661ca</td>\n      <td>SMARTCONTRACT</td>\n    </tr>\n    <tr>\n      <th>3</th>\n      <td>1547111675000000000</td>\n      <td>0xab59a1ea1ac9af9f77518b9b4ad80942ade35088</td>\n      <td>USERORVALIDATOR</td>\n      <td>0x9849379b89ab24c18c8871d56d1ad41e00d9eaae</td>\n      <td>USERORVALIDATOR</td>\n    </tr>\n    <tr>\n      <th>4</th>\n      <td>1547111745000000000</td>\n      <td>0xab59a1ea1ac9af9f77518b9b4ad80942ade35088</td>\n      <td>USERORVALIDATOR</td>\n      <td>0x9849379b89ab24c18c8871d56d1ad41e00d9eaae</td>\n      <td>USERORVALIDATOR</td>\n    </tr>\n    <tr>\n      <th>6</th>\n      <td>1547111870000000000</td>\n      <td>0xab59a1ea1ac9af9f77518b9b4ad80942ade35088</td>\n      <td>USERORVALIDATOR</td>\n      <td>0x03274b235c4a9207db1c852ea145fbe4d05e0e89</td>\n      <td>SMARTCONTRACT</td>\n    </tr>\n    <tr>\n      <th>9</th>\n      <td>1547111885000000000</td>\n      <td>0xab59a1ea1ac9af9f77518b9b4ad80942ade35088</td>\n      <td>USERORVALIDATOR</td>\n      <td>0x03274b235c4a9207db1c852ea145fbe4d05e0e89</td>\n      <td>SMARTCONTRACT</td>\n    </tr>\n    <tr>\n      <th>...</th>\n      <td>...</td>\n      <td>...</td>\n      <td>...</td>\n      <td>...</td>\n      <td>...</td>\n    </tr>\n    <tr>\n      <th>9494480</th>\n      <td>1591620790000000000</td>\n      <td>0xab59a1ea1ac9af9f77518b9b4ad80942ade35088</td>\n      <td>USERORVALIDATOR</td>\n      <td>0xe5a9654c7e190701016ebf18206020bf16d8beab</td>\n      <td>SMARTCONTRACT</td>\n    </tr>\n    <tr>\n      <th>9494481</th>\n      <td>1591621700000000000</td>\n      <td>0xab59a1ea1ac9af9f77518b9b4ad80942ade35088</td>\n      <td>USERORVALIDATOR</td>\n      <td>0xe5a9654c7e190701016ebf18206020bf16d8beab</td>\n      <td>SMARTCONTRACT</td>\n    </tr>\n    <tr>\n      <th>9494482</th>\n      <td>1591622595000000000</td>\n      <td>0xab59a1ea1ac9af9f77518b9b4ad80942ade35088</td>\n      <td>USERORVALIDATOR</td>\n      <td>0xe5a9654c7e190701016ebf18206020bf16d8beab</td>\n      <td>SMARTCONTRACT</td>\n    </tr>\n    <tr>\n      <th>9494483</th>\n      <td>1591623495000000000</td>\n      <td>0xab59a1ea1ac9af9f77518b9b4ad80942ade35088</td>\n      <td>USERORVALIDATOR</td>\n      <td>0xe5a9654c7e190701016ebf18206020bf16d8beab</td>\n      <td>SMARTCONTRACT</td>\n    </tr>\n    <tr>\n      <th>9494484</th>\n      <td>1591624395000000000</td>\n      <td>0xab59a1ea1ac9af9f77518b9b4ad80942ade35088</td>\n      <td>USERORVALIDATOR</td>\n      <td>0xe5a9654c7e190701016ebf18206020bf16d8beab</td>\n      <td>SMARTCONTRACT</td>\n    </tr>\n  </tbody>\n</table>\n<p>9493931 rows × 5 columns</p>\n</div>"
     },
     "metadata": {},
     "execution_count": 36
    }
   ],
   "source": [
    "df = df.dropna()\n",
    "df"
   ]
  },
  {
   "cell_type": "code",
   "execution_count": 37,
   "metadata": {},
   "outputs": [
    {
     "output_type": "error",
     "ename": "TypeError",
     "evalue": "can only concatenate str (not \"int\") to str",
     "traceback": [
      "\u001b[0;31m---------------------------------------------------------------------------\u001b[0m",
      "\u001b[0;31mTypeError\u001b[0m                                 Traceback (most recent call last)",
      "\u001b[0;32m<ipython-input-37-cdcbaa2a5b3f>\u001b[0m in \u001b[0;36m<module>\u001b[0;34m\u001b[0m\n\u001b[0;32m----> 1\u001b[0;31m \u001b[0mtnet\u001b[0m \u001b[0;34m=\u001b[0m \u001b[0mTemporalNetwork\u001b[0m\u001b[0;34m(\u001b[0m\u001b[0mfrom_df\u001b[0m\u001b[0;34m=\u001b[0m\u001b[0mdf\u001b[0m\u001b[0;34m)\u001b[0m\u001b[0;34m\u001b[0m\u001b[0;34m\u001b[0m\u001b[0m\n\u001b[0m\u001b[1;32m      2\u001b[0m \u001b[0mtnet\u001b[0m\u001b[0;34m.\u001b[0m\u001b[0mnetwork\u001b[0m\u001b[0;34m\u001b[0m\u001b[0;34m\u001b[0m\u001b[0m\n",
      "\u001b[0;32m~/.virtualenvs/ethereum-network-iTOQKzl-/lib/python3.8/site-packages/teneto/classes/network.py\u001b[0m in \u001b[0;36m__init__\u001b[0;34m(self, N, T, nettype, from_df, from_array, from_dict, from_edgelist, timetype, diagonal, timeunit, desc, starttime, nodelabels, timelabels, hdf5, hdf5path, forcesparse)\u001b[0m\n\u001b[1;32m    137\u001b[0m         \u001b[0;31m# Input\u001b[0m\u001b[0;34m\u001b[0m\u001b[0;34m\u001b[0m\u001b[0;34m\u001b[0m\u001b[0m\n\u001b[1;32m    138\u001b[0m         \u001b[0;32mif\u001b[0m \u001b[0mfrom_df\u001b[0m \u001b[0;32mis\u001b[0m \u001b[0;32mnot\u001b[0m \u001b[0;32mNone\u001b[0m\u001b[0;34m:\u001b[0m\u001b[0;34m\u001b[0m\u001b[0;34m\u001b[0m\u001b[0m\n\u001b[0;32m--> 139\u001b[0;31m             \u001b[0mself\u001b[0m\u001b[0;34m.\u001b[0m\u001b[0mnetwork_from_df\u001b[0m\u001b[0;34m(\u001b[0m\u001b[0mfrom_df\u001b[0m\u001b[0;34m)\u001b[0m\u001b[0;34m\u001b[0m\u001b[0;34m\u001b[0m\u001b[0m\n\u001b[0m\u001b[1;32m    140\u001b[0m         \u001b[0;32mif\u001b[0m \u001b[0mfrom_edgelist\u001b[0m \u001b[0;32mis\u001b[0m \u001b[0;32mnot\u001b[0m \u001b[0;32mNone\u001b[0m\u001b[0;34m:\u001b[0m\u001b[0;34m\u001b[0m\u001b[0;34m\u001b[0m\u001b[0m\n\u001b[1;32m    141\u001b[0m             \u001b[0mself\u001b[0m\u001b[0;34m.\u001b[0m\u001b[0mnetwork_from_edgelist\u001b[0m\u001b[0;34m(\u001b[0m\u001b[0mfrom_edgelist\u001b[0m\u001b[0;34m)\u001b[0m\u001b[0;34m\u001b[0m\u001b[0;34m\u001b[0m\u001b[0m\n",
      "\u001b[0;32m~/.virtualenvs/ethereum-network-iTOQKzl-/lib/python3.8/site-packages/teneto/classes/network.py\u001b[0m in \u001b[0;36mnetwork_from_df\u001b[0;34m(self, df)\u001b[0m\n\u001b[1;32m    245\u001b[0m         \u001b[0mteneto\u001b[0m\u001b[0;34m.\u001b[0m\u001b[0mutils\u001b[0m\u001b[0;34m.\u001b[0m\u001b[0mcheck_TemporalNetwork_input\u001b[0m\u001b[0;34m(\u001b[0m\u001b[0mdf\u001b[0m\u001b[0;34m,\u001b[0m \u001b[0;34m'df'\u001b[0m\u001b[0;34m)\u001b[0m\u001b[0;34m\u001b[0m\u001b[0;34m\u001b[0m\u001b[0m\n\u001b[1;32m    246\u001b[0m         \u001b[0mself\u001b[0m\u001b[0;34m.\u001b[0m\u001b[0mnetwork\u001b[0m \u001b[0;34m=\u001b[0m \u001b[0mdf\u001b[0m\u001b[0;34m\u001b[0m\u001b[0;34m\u001b[0m\u001b[0m\n\u001b[0;32m--> 247\u001b[0;31m         \u001b[0mself\u001b[0m\u001b[0;34m.\u001b[0m\u001b[0m_update_network\u001b[0m\u001b[0;34m(\u001b[0m\u001b[0;34m)\u001b[0m\u001b[0;34m\u001b[0m\u001b[0;34m\u001b[0m\u001b[0m\n\u001b[0m\u001b[1;32m    248\u001b[0m \u001b[0;34m\u001b[0m\u001b[0m\n\u001b[1;32m    249\u001b[0m     \u001b[0;32mdef\u001b[0m \u001b[0mnetwork_from_edgelist\u001b[0m\u001b[0;34m(\u001b[0m\u001b[0mself\u001b[0m\u001b[0;34m,\u001b[0m \u001b[0medgelist\u001b[0m\u001b[0;34m)\u001b[0m\u001b[0;34m:\u001b[0m\u001b[0;34m\u001b[0m\u001b[0;34m\u001b[0m\u001b[0m\n",
      "\u001b[0;32m~/.virtualenvs/ethereum-network-iTOQKzl-/lib/python3.8/site-packages/teneto/classes/network.py\u001b[0m in \u001b[0;36m_update_network\u001b[0;34m(self)\u001b[0m\n\u001b[1;32m    225\u001b[0m     \u001b[0;32mdef\u001b[0m \u001b[0m_update_network\u001b[0m\u001b[0;34m(\u001b[0m\u001b[0mself\u001b[0m\u001b[0;34m)\u001b[0m\u001b[0;34m:\u001b[0m\u001b[0;34m\u001b[0m\u001b[0;34m\u001b[0m\u001b[0m\n\u001b[1;32m    226\u001b[0m         \u001b[0;34m\"\"\"Helper function that updates the network info\"\"\"\u001b[0m\u001b[0;34m\u001b[0m\u001b[0;34m\u001b[0m\u001b[0m\n\u001b[0;32m--> 227\u001b[0;31m         \u001b[0mself\u001b[0m\u001b[0;34m.\u001b[0m\u001b[0m_calc_netshape\u001b[0m\u001b[0;34m(\u001b[0m\u001b[0;34m)\u001b[0m\u001b[0;34m\u001b[0m\u001b[0;34m\u001b[0m\u001b[0m\n\u001b[0m\u001b[1;32m    228\u001b[0m         \u001b[0mself\u001b[0m\u001b[0;34m.\u001b[0m\u001b[0m_set_nettype\u001b[0m\u001b[0;34m(\u001b[0m\u001b[0;34m)\u001b[0m\u001b[0;34m\u001b[0m\u001b[0;34m\u001b[0m\u001b[0m\n\u001b[1;32m    229\u001b[0m         \u001b[0;32mif\u001b[0m \u001b[0mself\u001b[0m\u001b[0;34m.\u001b[0m\u001b[0mnettype\u001b[0m\u001b[0;34m:\u001b[0m\u001b[0;34m\u001b[0m\u001b[0;34m\u001b[0m\u001b[0m\n",
      "\u001b[0;32m~/.virtualenvs/ethereum-network-iTOQKzl-/lib/python3.8/site-packages/teneto/classes/network.py\u001b[0m in \u001b[0;36m_calc_netshape\u001b[0;34m(self)\u001b[0m\n\u001b[1;32m    305\u001b[0m             \u001b[0mself\u001b[0m\u001b[0;34m.\u001b[0m\u001b[0mnetshape\u001b[0m \u001b[0;34m=\u001b[0m \u001b[0;34m(\u001b[0m\u001b[0mN\u001b[0m\u001b[0;34m,\u001b[0m \u001b[0mT\u001b[0m\u001b[0;34m)\u001b[0m\u001b[0;34m\u001b[0m\u001b[0;34m\u001b[0m\u001b[0m\n\u001b[1;32m    306\u001b[0m         \u001b[0;32melse\u001b[0m\u001b[0;34m:\u001b[0m\u001b[0;34m\u001b[0m\u001b[0;34m\u001b[0m\u001b[0m\n\u001b[0;32m--> 307\u001b[0;31m             \u001b[0mN\u001b[0m \u001b[0;34m=\u001b[0m \u001b[0mself\u001b[0m\u001b[0;34m.\u001b[0m\u001b[0mnetwork\u001b[0m\u001b[0;34m[\u001b[0m\u001b[0;34m[\u001b[0m\u001b[0;34m'i'\u001b[0m\u001b[0;34m,\u001b[0m \u001b[0;34m'j'\u001b[0m\u001b[0;34m]\u001b[0m\u001b[0;34m]\u001b[0m\u001b[0;34m.\u001b[0m\u001b[0mmax\u001b[0m\u001b[0;34m(\u001b[0m\u001b[0maxis\u001b[0m\u001b[0;34m=\u001b[0m\u001b[0;36m1\u001b[0m\u001b[0;34m)\u001b[0m\u001b[0;34m.\u001b[0m\u001b[0mmax\u001b[0m\u001b[0;34m(\u001b[0m\u001b[0;34m)\u001b[0m\u001b[0;34m+\u001b[0m\u001b[0;36m1\u001b[0m\u001b[0;34m\u001b[0m\u001b[0;34m\u001b[0m\u001b[0m\n\u001b[0m\u001b[1;32m    308\u001b[0m             \u001b[0mT\u001b[0m \u001b[0;34m=\u001b[0m \u001b[0mself\u001b[0m\u001b[0;34m.\u001b[0m\u001b[0mnetwork\u001b[0m\u001b[0;34m[\u001b[0m\u001b[0;34m't'\u001b[0m\u001b[0;34m]\u001b[0m\u001b[0;34m.\u001b[0m\u001b[0mmax\u001b[0m\u001b[0;34m(\u001b[0m\u001b[0;34m)\u001b[0m\u001b[0;34m+\u001b[0m\u001b[0;36m1\u001b[0m\u001b[0;34m\u001b[0m\u001b[0;34m\u001b[0m\u001b[0m\n\u001b[1;32m    309\u001b[0m             \u001b[0;32mif\u001b[0m \u001b[0mself\u001b[0m\u001b[0;34m.\u001b[0m\u001b[0mN\u001b[0m \u001b[0;34m>\u001b[0m \u001b[0mN\u001b[0m\u001b[0;34m:\u001b[0m\u001b[0;34m\u001b[0m\u001b[0;34m\u001b[0m\u001b[0m\n",
      "\u001b[0;31mTypeError\u001b[0m: can only concatenate str (not \"int\") to str"
     ]
    }
   ],
   "source": [
    "tnet = TemporalNetwork(from_df=df)\n",
    "tnet.network"
   ]
  }
 ],
 "metadata": {
  "kernelspec": {
   "display_name": "Python 3",
   "language": "python",
   "name": "python3"
  },
  "language_info": {
   "codemirror_mode": {
    "name": "ipython",
    "version": 3
   },
   "file_extension": ".py",
   "mimetype": "text/x-python",
   "name": "python",
   "nbconvert_exporter": "python",
   "pygments_lexer": "ipython3",
   "version": "3.8.2-final"
  }
 },
 "nbformat": 4,
 "nbformat_minor": 4
}